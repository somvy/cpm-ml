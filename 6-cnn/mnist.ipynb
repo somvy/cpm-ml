{
 "cells": [
  {
   "cell_type": "markdown",
   "metadata": {},
   "source": [
    "# Распознавание цифр (MNIST)"
   ]
  },
  {
   "cell_type": "code",
   "execution_count": 6,
   "metadata": {},
   "outputs": [],
   "source": [
    "import matplotlib.pyplot as plt\n",
    "\n",
    "import torch\n",
    "import torchvision\n",
    "from torch import nn, optim\n",
    "from torch.nn import Sequential, Linear, LogSoftmax, Sigmoid, Flatten, Softmax, ReLU\n",
    "from torchvision import datasets, transforms\n",
    "from torch.utils.data import random_split, DataLoader"
   ]
  },
  {
   "cell_type": "markdown",
   "metadata": {},
   "source": [
    "## Картинки!"
   ]
  },
  {
   "cell_type": "code",
   "execution_count": 3,
   "metadata": {},
   "outputs": [
    {
     "name": "stdout",
     "output_type": "stream",
     "text": [
      "Downloading http://yann.lecun.com/exdb/mnist/train-images-idx3-ubyte.gz\n",
      "Downloading http://yann.lecun.com/exdb/mnist/train-images-idx3-ubyte.gz to data/MNIST/raw/train-images-idx3-ubyte.gz\n"
     ]
    },
    {
     "name": "stderr",
     "output_type": "stream",
     "text": [
      "100%|██████████| 9912422/9912422 [00:00<00:00, 26874951.52it/s]\n"
     ]
    },
    {
     "name": "stdout",
     "output_type": "stream",
     "text": [
      "Extracting data/MNIST/raw/train-images-idx3-ubyte.gz to data/MNIST/raw\n",
      "\n",
      "Downloading http://yann.lecun.com/exdb/mnist/train-labels-idx1-ubyte.gz\n",
      "Downloading http://yann.lecun.com/exdb/mnist/train-labels-idx1-ubyte.gz to data/MNIST/raw/train-labels-idx1-ubyte.gz\n"
     ]
    },
    {
     "name": "stderr",
     "output_type": "stream",
     "text": [
      "100%|██████████| 28881/28881 [00:00<00:00, 24457034.89it/s]\n"
     ]
    },
    {
     "name": "stdout",
     "output_type": "stream",
     "text": [
      "Extracting data/MNIST/raw/train-labels-idx1-ubyte.gz to data/MNIST/raw\n",
      "\n",
      "Downloading http://yann.lecun.com/exdb/mnist/t10k-images-idx3-ubyte.gz\n",
      "Downloading http://yann.lecun.com/exdb/mnist/t10k-images-idx3-ubyte.gz to data/MNIST/raw/t10k-images-idx3-ubyte.gz\n"
     ]
    },
    {
     "name": "stderr",
     "output_type": "stream",
     "text": [
      "100%|██████████| 1648877/1648877 [00:00<00:00, 8758561.32it/s]\n"
     ]
    },
    {
     "name": "stdout",
     "output_type": "stream",
     "text": [
      "Extracting data/MNIST/raw/t10k-images-idx3-ubyte.gz to data/MNIST/raw\n",
      "\n",
      "Downloading http://yann.lecun.com/exdb/mnist/t10k-labels-idx1-ubyte.gz\n",
      "Downloading http://yann.lecun.com/exdb/mnist/t10k-labels-idx1-ubyte.gz to data/MNIST/raw/t10k-labels-idx1-ubyte.gz\n"
     ]
    },
    {
     "name": "stderr",
     "output_type": "stream",
     "text": [
      "100%|██████████| 4542/4542 [00:00<00:00, 8585186.47it/s]"
     ]
    },
    {
     "name": "stdout",
     "output_type": "stream",
     "text": [
      "Extracting data/MNIST/raw/t10k-labels-idx1-ubyte.gz to data/MNIST/raw\n",
      "\n"
     ]
    },
    {
     "name": "stderr",
     "output_type": "stream",
     "text": [
      "\n"
     ]
    }
   ],
   "source": [
    "train_data = datasets.MNIST('data', train=True, download=True, transform=transforms.ToTensor())\n",
    "\n",
    "train, val = random_split(train_data, [55000, 5000])\n",
    "train_loader = DataLoader(train, batch_size=32)\n",
    "val_loader = DataLoader(val, batch_size=32)"
   ]
  },
  {
   "cell_type": "code",
   "execution_count": 20,
   "metadata": {},
   "outputs": [
    {
     "data": {
      "text/plain": [
       "tensor([0.0000, 0.0000, 0.0000, 0.0000, 0.0000, 0.0000, 0.0000, 0.0000, 0.4118,\n",
       "        0.9961, 0.2745, 0.0000, 0.0000, 0.0000, 0.0000, 0.0745, 0.8941, 0.9961,\n",
       "        0.1176, 0.0000, 0.0000, 0.0000, 0.0000, 0.0000, 0.0000, 0.0000, 0.0000,\n",
       "        0.0000])"
      ]
     },
     "execution_count": 20,
     "metadata": {},
     "output_type": "execute_result"
    }
   ],
   "source": [
    "val[4][0][0][10]"
   ]
  },
  {
   "cell_type": "code",
   "execution_count": 15,
   "metadata": {},
   "outputs": [
    {
     "data": {
      "image/png": "[encoded data removed]",
      "text/plain": [
       "<Figure size 640x480 with 1 Axes>"
      ]
     },
     "metadata": {},
     "output_type": "display_data"
    }
   ],
   "source": [
    "plt.imshow(val[4][0].reshape(28,28).numpy())\n",
    "plt.show()"
   ]
  },
  {
   "cell_type": "code",
   "execution_count": 8,
   "metadata": {},
   "outputs": [
    {
     "name": "stdout",
     "output_type": "stream",
     "text": [
      "Epoch: 1, Train Loss: 1.1700985431671143, Accuracy: 0.6714\n",
      "Epoch: 2, Train Loss: 0.3860948979854584, Accuracy: 0.8906\n",
      "Epoch: 3, Train Loss: 0.3194361627101898, Accuracy: 0.9080727272727273\n",
      "Epoch: 4, Train Loss: 0.283171147108078, Accuracy: 0.9186727272727273\n"
     ]
    }
   ],
   "source": [
    "model = Sequential(\n",
    "    Linear(28 * 28, 64), # на входе - размеры картинки\n",
    "    ReLU(),\n",
    "    Linear(64, 64),\n",
    "    ReLU(),\n",
    "    Linear(64, 10) # 10 классов\n",
    ")\n",
    "\n",
    "criterion = torch.nn.CrossEntropyLoss()\n",
    "\n",
    "optimizer = torch.optim.SGD(model.parameters(), lr=1e-2)\n",
    "\n",
    "# 4 эпохи\n",
    "for epoch in range(4):\n",
    "    \n",
    "    # training part\n",
    "    train_losses = list()\n",
    "    train_count_correct = 0 \n",
    "    for batch in train_loader: # 55000 / 32 раз\n",
    "        x, y = batch\n",
    "        # x: batch_size x 1 x 28 x 28\n",
    "        # y: batch_size x 1\n",
    "        \n",
    "        x = x.view(x.size(0), -1) # matrix of vectors batch_size x (28 * 28)\n",
    "        \n",
    "        y_pred = model(x)\n",
    "        \n",
    "        batch_loss = criterion(y_pred, y)\n",
    "        \n",
    "        train_losses.append(batch_loss.item())\n",
    "        train_count_correct += (y_pred.argmax(-1) == y).sum().item()\n",
    "        \n",
    "        \n",
    "        optimizer.zero_grad()\n",
    "        batch_loss.backward()\n",
    "        optimizer.step()\n",
    "    \n",
    "    print(f'Epoch: {epoch + 1}, Train Loss: {torch.tensor(train_losses).mean()}, Accuracy: {train_count_correct / len(train)}')\n"
   ]
  },
  {
   "cell_type": "markdown",
   "metadata": {},
   "source": [
    "## Check model"
   ]
  },
  {
   "cell_type": "code",
   "execution_count": 9,
   "metadata": {},
   "outputs": [
    {
     "name": "stdout",
     "output_type": "stream",
     "text": [
      "Test Loss: 0.26986464858055115, Test Accuracy: 0.9214\n"
     ]
    }
   ],
   "source": [
    "val_losses = list()\n",
    "val_count_correct = 0\n",
    "for batch in val_loader:\n",
    "    x, y = batch\n",
    "    x = x.view(x.size(0), -1)\n",
    "\n",
    "    with torch.no_grad():\n",
    "        y_pred = model(x) \n",
    "\n",
    "    batch_loss = criterion(y_pred, y)\n",
    "    val_losses.append(batch_loss.item())\n",
    "    val_count_correct += (y_pred.argmax(-1) == y).sum().item()\n",
    "\n",
    "print(f'Test Loss: {torch.tensor(val_losses).mean()}, Test Accuracy: {val_count_correct / len(val)}')"
   ]
  },
  {
   "cell_type": "markdown",
   "metadata": {},
   "source": [
    "## Обычно делают одновременно"
   ]
  },
  {
   "cell_type": "code",
   "execution_count": 10,
   "metadata": {},
   "outputs": [
    {
     "name": "stdout",
     "output_type": "stream",
     "text": [
      "Epoch: 1, Train Loss: 1.2121529579162598, Accuracy: 0.6961454545454545\n",
      "Epoch: 1, Test Loss: 0.45090577006340027, Accuracy: 0.8774\n",
      "------------------------------------\n",
      "Epoch: 2, Train Loss: 0.3829621970653534, Accuracy: 0.8930545454545454\n",
      "Epoch: 2, Test Loss: 0.3362058103084564, Accuracy: 0.904\n",
      "------------------------------------\n",
      "Epoch: 3, Train Loss: 0.31776848435401917, Accuracy: 0.9088909090909091\n",
      "Epoch: 3, Test Loss: 0.2978077530860901, Accuracy: 0.9136\n",
      "------------------------------------\n",
      "Epoch: 4, Train Loss: 0.2844504117965698, Accuracy: 0.9184727272727272\n",
      "Epoch: 4, Test Loss: 0.27132800221443176, Accuracy: 0.9204\n",
      "------------------------------------\n"
     ]
    }
   ],
   "source": [
    "model = Sequential(\n",
    "    Linear(28 * 28, 64), # на входе - размеры картинки\n",
    "    ReLU(),\n",
    "    Linear(64, 64),\n",
    "    ReLU(),\n",
    "    Linear(64, 10) # 10 классов\n",
    ")\n",
    "\n",
    "criterion = torch.nn.CrossEntropyLoss()\n",
    "\n",
    "optimizer = torch.optim.SGD(model.parameters(), lr=1e-2)\n",
    "\n",
    "# Спуск\n",
    "for epoch in range(4):\n",
    "    \n",
    "    # training part\n",
    "    train_losses = list()\n",
    "    train_count_correct = 0 \n",
    "    for batch in train_loader:\n",
    "        x, y = batch\n",
    "        # x: batch_size x 1 x 28 x 28\n",
    "        # y: batch_size x 1\n",
    "        \n",
    "        x = x.view(x.size(0), -1)\n",
    "        \n",
    "        y_pred = model(x) \n",
    "        \n",
    "        batch_loss = criterion(y_pred, y)\n",
    "        train_losses.append(batch_loss.item())\n",
    "        train_count_correct += (y_pred.argmax(-1) == y).sum().item()\n",
    "        \n",
    "        \n",
    "        optimizer.zero_grad()\n",
    "        batch_loss.backward()\n",
    "        optimizer.step()\n",
    "    \n",
    "    print(f'Epoch: {epoch + 1}, Train Loss: {torch.tensor(train_losses).mean()}, Accuracy: {train_count_correct / len(train)}')\n",
    "    \n",
    "    # validation part\n",
    "    val_losses = list()\n",
    "    val_count_correct = 0\n",
    "    for batch in val_loader:\n",
    "        x, y = batch\n",
    "        x = x.view(x.size(0), -1)\n",
    "        \n",
    "        with torch.no_grad():\n",
    "            y_pred = model(x) \n",
    "        \n",
    "        batch_loss = criterion(y_pred, y)\n",
    "        val_losses.append(batch_loss.item())\n",
    "        val_count_correct += (y_pred.argmax(-1) == y).sum().item()\n",
    "\n",
    "    \n",
    "    print(f'Epoch: {epoch + 1}, Test Loss: {torch.tensor(val_losses).mean()}, Accuracy: {val_count_correct / len(val)}')\n",
    "    print('------------------------------------')\n"
   ]
  },
  {
   "cell_type": "markdown",
   "metadata": {},
   "source": [
    "# Ссылки интересные\n",
    "* [MNIST solution](https://www.youtube.com/watch?v=OMDn66kM9Qc)"
   ]
  }
 ],
 "metadata": {
  "kernelspec": {
   "display_name": "Python 3",
   "language": "python",
   "name": "python3"
  },
  "language_info": {
   "codemirror_mode": {
    "name": "ipython",
    "version": 3
   },
   "file_extension": ".py",
   "mimetype": "text/x-python",
   "name": "python",
   "nbconvert_exporter": "python",
   "pygments_lexer": "ipython3",
   "version": "3.11.6"
  }
 },
 "nbformat": 4,
 "nbformat_minor": 4
}
