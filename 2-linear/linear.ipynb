{
 "cells": [
  {
   "cell_type": "markdown",
   "metadata": {},
   "source": [
    "# 2. Линейные модели и Градиентный спуск.\n",
    "\n",
    "Альтернативное изложение некоторых частей материала есть [тут](https://alexanderdyakonov.wordpress.com/2019/10/31/%D0%BB%D0%B8%D0%BD%D0%B5%D0%B9%D0%BD%D0%B0%D1%8F-%D1%80%D0%B5%D0%B3%D1%80%D0%B5%D1%81%D1%81%D0%B8%D1%8F/), весьма рекомендуется к ознакомлению. \n"
   ]
  },
  {
   "cell_type": "code",
   "execution_count": 199,
   "metadata": {},
   "outputs": [
    {
     "data": {
      "text/html": [
       "<div>\n",
       "<style scoped>\n",
       "    .dataframe tbody tr th:only-of-type {\n",
       "        vertical-align: middle;\n",
       "    }\n",
       "\n",
       "    .dataframe tbody tr th {\n",
       "        vertical-align: top;\n",
       "    }\n",
       "\n",
       "    .dataframe thead th {\n",
       "        text-align: right;\n",
       "    }\n",
       "</style>\n",
       "<table border=\"1\" class=\"dataframe\">\n",
       "  <thead>\n",
       "    <tr style=\"text-align: right;\">\n",
       "      <th></th>\n",
       "      <th>pclass</th>\n",
       "      <th>age</th>\n",
       "      <th>sibsp</th>\n",
       "      <th>parch</th>\n",
       "      <th>fare</th>\n",
       "      <th>embarked_C</th>\n",
       "      <th>embarked_Q</th>\n",
       "      <th>embarked_S</th>\n",
       "      <th>sex_female</th>\n",
       "      <th>sex_male</th>\n",
       "    </tr>\n",
       "  </thead>\n",
       "  <tbody>\n",
       "    <tr>\n",
       "      <th>0</th>\n",
       "      <td>1</td>\n",
       "      <td>29.0000</td>\n",
       "      <td>0</td>\n",
       "      <td>0</td>\n",
       "      <td>211.3375</td>\n",
       "      <td>0</td>\n",
       "      <td>0</td>\n",
       "      <td>1</td>\n",
       "      <td>1</td>\n",
       "      <td>0</td>\n",
       "    </tr>\n",
       "    <tr>\n",
       "      <th>1</th>\n",
       "      <td>1</td>\n",
       "      <td>0.9167</td>\n",
       "      <td>1</td>\n",
       "      <td>2</td>\n",
       "      <td>151.5500</td>\n",
       "      <td>0</td>\n",
       "      <td>0</td>\n",
       "      <td>1</td>\n",
       "      <td>0</td>\n",
       "      <td>1</td>\n",
       "    </tr>\n",
       "    <tr>\n",
       "      <th>2</th>\n",
       "      <td>1</td>\n",
       "      <td>2.0000</td>\n",
       "      <td>1</td>\n",
       "      <td>2</td>\n",
       "      <td>151.5500</td>\n",
       "      <td>0</td>\n",
       "      <td>0</td>\n",
       "      <td>1</td>\n",
       "      <td>1</td>\n",
       "      <td>0</td>\n",
       "    </tr>\n",
       "    <tr>\n",
       "      <th>3</th>\n",
       "      <td>1</td>\n",
       "      <td>30.0000</td>\n",
       "      <td>1</td>\n",
       "      <td>2</td>\n",
       "      <td>151.5500</td>\n",
       "      <td>0</td>\n",
       "      <td>0</td>\n",
       "      <td>1</td>\n",
       "      <td>0</td>\n",
       "      <td>1</td>\n",
       "    </tr>\n",
       "    <tr>\n",
       "      <th>4</th>\n",
       "      <td>1</td>\n",
       "      <td>25.0000</td>\n",
       "      <td>1</td>\n",
       "      <td>2</td>\n",
       "      <td>151.5500</td>\n",
       "      <td>0</td>\n",
       "      <td>0</td>\n",
       "      <td>1</td>\n",
       "      <td>1</td>\n",
       "      <td>0</td>\n",
       "    </tr>\n",
       "  </tbody>\n",
       "</table>\n",
       "</div>"
      ],
      "text/plain": [
       "   pclass      age  sibsp  parch      fare  embarked_C  embarked_Q  \\\n",
       "0       1  29.0000      0      0  211.3375           0           0   \n",
       "1       1   0.9167      1      2  151.5500           0           0   \n",
       "2       1   2.0000      1      2  151.5500           0           0   \n",
       "3       1  30.0000      1      2  151.5500           0           0   \n",
       "4       1  25.0000      1      2  151.5500           0           0   \n",
       "\n",
       "   embarked_S  sex_female  sex_male  \n",
       "0           1           1         0  \n",
       "1           1           0         1  \n",
       "2           1           1         0  \n",
       "3           1           0         1  \n",
       "4           1           1         0  "
      ]
     },
     "execution_count": 199,
     "metadata": {},
     "output_type": "execute_result"
    }
   ],
   "source": [
    "import pandas as pd\n",
    "data = pd.read_csv(\"https://raw.githubusercontent.com/rolandmueller/titanic/main/titanic3.csv\")\n",
    "X = data.drop(\"survived\", axis = 1)\n",
    "y = data[\"survived\"]\n",
    "X.head()"
   ]
  },
  {
   "cell_type": "code",
   "execution_count": 148,
   "metadata": {},
   "outputs": [
    {
     "data": {
      "text/html": [
       "<div>\n",
       "<style scoped>\n",
       "    .dataframe tbody tr th:only-of-type {\n",
       "        vertical-align: middle;\n",
       "    }\n",
       "\n",
       "    .dataframe tbody tr th {\n",
       "        vertical-align: top;\n",
       "    }\n",
       "\n",
       "    .dataframe thead th {\n",
       "        text-align: right;\n",
       "    }\n",
       "</style>\n",
       "<table border=\"1\" class=\"dataframe\">\n",
       "  <thead>\n",
       "    <tr style=\"text-align: right;\">\n",
       "      <th></th>\n",
       "      <th>pclass</th>\n",
       "      <th>age</th>\n",
       "      <th>sibsp</th>\n",
       "      <th>parch</th>\n",
       "      <th>fare</th>\n",
       "      <th>body</th>\n",
       "    </tr>\n",
       "  </thead>\n",
       "  <tbody>\n",
       "    <tr>\n",
       "      <th>count</th>\n",
       "      <td>1309.000000</td>\n",
       "      <td>1046.000000</td>\n",
       "      <td>1309.000000</td>\n",
       "      <td>1309.000000</td>\n",
       "      <td>1308.000000</td>\n",
       "      <td>121.000000</td>\n",
       "    </tr>\n",
       "    <tr>\n",
       "      <th>mean</th>\n",
       "      <td>2.294882</td>\n",
       "      <td>29.881135</td>\n",
       "      <td>0.498854</td>\n",
       "      <td>0.385027</td>\n",
       "      <td>33.295479</td>\n",
       "      <td>160.809917</td>\n",
       "    </tr>\n",
       "    <tr>\n",
       "      <th>std</th>\n",
       "      <td>0.837836</td>\n",
       "      <td>14.413500</td>\n",
       "      <td>1.041658</td>\n",
       "      <td>0.865560</td>\n",
       "      <td>51.758668</td>\n",
       "      <td>97.696922</td>\n",
       "    </tr>\n",
       "    <tr>\n",
       "      <th>min</th>\n",
       "      <td>1.000000</td>\n",
       "      <td>0.166700</td>\n",
       "      <td>0.000000</td>\n",
       "      <td>0.000000</td>\n",
       "      <td>0.000000</td>\n",
       "      <td>1.000000</td>\n",
       "    </tr>\n",
       "    <tr>\n",
       "      <th>25%</th>\n",
       "      <td>2.000000</td>\n",
       "      <td>21.000000</td>\n",
       "      <td>0.000000</td>\n",
       "      <td>0.000000</td>\n",
       "      <td>7.895800</td>\n",
       "      <td>72.000000</td>\n",
       "    </tr>\n",
       "    <tr>\n",
       "      <th>50%</th>\n",
       "      <td>3.000000</td>\n",
       "      <td>28.000000</td>\n",
       "      <td>0.000000</td>\n",
       "      <td>0.000000</td>\n",
       "      <td>14.454200</td>\n",
       "      <td>155.000000</td>\n",
       "    </tr>\n",
       "    <tr>\n",
       "      <th>75%</th>\n",
       "      <td>3.000000</td>\n",
       "      <td>39.000000</td>\n",
       "      <td>1.000000</td>\n",
       "      <td>0.000000</td>\n",
       "      <td>31.275000</td>\n",
       "      <td>256.000000</td>\n",
       "    </tr>\n",
       "    <tr>\n",
       "      <th>max</th>\n",
       "      <td>3.000000</td>\n",
       "      <td>80.000000</td>\n",
       "      <td>8.000000</td>\n",
       "      <td>9.000000</td>\n",
       "      <td>512.329200</td>\n",
       "      <td>328.000000</td>\n",
       "    </tr>\n",
       "  </tbody>\n",
       "</table>\n",
       "</div>"
      ],
      "text/plain": [
       "            pclass          age        sibsp        parch         fare  \\\n",
       "count  1309.000000  1046.000000  1309.000000  1309.000000  1308.000000   \n",
       "mean      2.294882    29.881135     0.498854     0.385027    33.295479   \n",
       "std       0.837836    14.413500     1.041658     0.865560    51.758668   \n",
       "min       1.000000     0.166700     0.000000     0.000000     0.000000   \n",
       "25%       2.000000    21.000000     0.000000     0.000000     7.895800   \n",
       "50%       3.000000    28.000000     0.000000     0.000000    14.454200   \n",
       "75%       3.000000    39.000000     1.000000     0.000000    31.275000   \n",
       "max       3.000000    80.000000     8.000000     9.000000   512.329200   \n",
       "\n",
       "             body  \n",
       "count  121.000000  \n",
       "mean   160.809917  \n",
       "std     97.696922  \n",
       "min      1.000000  \n",
       "25%     72.000000  \n",
       "50%    155.000000  \n",
       "75%    256.000000  \n",
       "max    328.000000  "
      ]
     },
     "execution_count": 148,
     "metadata": {},
     "output_type": "execute_result"
    }
   ],
   "source": [
    "X.describe()"
   ]
  },
  {
   "cell_type": "code",
   "execution_count": 154,
   "metadata": {},
   "outputs": [
    {
     "data": {
      "text/plain": [
       "sex\n",
       "male      843\n",
       "female    466\n",
       "Name: count, dtype: int64"
      ]
     },
     "execution_count": 154,
     "metadata": {},
     "output_type": "execute_result"
    }
   ],
   "source": [
    "X.sex.value_counts()"
   ]
  },
  {
   "cell_type": "code",
   "execution_count": 153,
   "metadata": {},
   "outputs": [
    {
     "data": {
      "text/plain": [
       "pclass          0\n",
       "name            0\n",
       "sex             0\n",
       "age           263\n",
       "sibsp           0\n",
       "parch           0\n",
       "ticket          0\n",
       "fare            1\n",
       "cabin        1014\n",
       "embarked        2\n",
       "boat          823\n",
       "body         1188\n",
       "home.dest     564\n",
       "dtype: int64"
      ]
     },
     "execution_count": 153,
     "metadata": {},
     "output_type": "execute_result"
    }
   ],
   "source": [
    "X.isna().sum()"
   ]
  },
  {
   "cell_type": "markdown",
   "metadata": {},
   "source": [
    "- Pclass Passenger Class (1 = 1st; 2 = 2nd; 3 = 3rd)\n",
    "- survival Survival (0 = No; 1 = Yes)\n",
    "- name Name\n",
    "- sex Sex\n",
    "- age Age\n",
    "- sibsp Number of Siblings/Spouses Aboard\n",
    "- parch Number of Parents/Children Aboard\n",
    "- ticket Ticket Number\n",
    "- fare Passenger Fare (British pound)\n",
    "- cabin Cabin\n",
    "- embarked Port of Embarkation (C = Cherbourg; Q = Queenstown; S = Southampton)\n",
    "- boat Lifeboat\n",
    "- body Body Identification Number\n",
    "- home.dest Home/Destination"
   ]
  },
  {
   "cell_type": "code",
   "execution_count": 102,
   "metadata": {},
   "outputs": [
    {
     "data": {
      "text/plain": [
       "boat\n",
       "13         39\n",
       "C          38\n",
       "15         37\n",
       "14         33\n",
       "4          31\n",
       "10         29\n",
       "5          27\n",
       "3          26\n",
       "9          25\n",
       "11         25\n",
       "16         23\n",
       "8          23\n",
       "7          23\n",
       "D          20\n",
       "6          20\n",
       "12         19\n",
       "2          13\n",
       "A          11\n",
       "B           9\n",
       "1           5\n",
       "5 7         2\n",
       "C D         2\n",
       "13 15       2\n",
       "5 9         1\n",
       "8 10        1\n",
       "13 15 B     1\n",
       "15 16       1\n",
       "Name: count, dtype: int64"
      ]
     },
     "execution_count": 102,
     "metadata": {},
     "output_type": "execute_result"
    }
   ],
   "source": [
    "X.boat.value_counts()"
   ]
  },
  {
   "cell_type": "code",
   "execution_count": 164,
   "metadata": {},
   "outputs": [
    {
     "data": {
      "text/html": [
       "<div>\n",
       "<style scoped>\n",
       "    .dataframe tbody tr th:only-of-type {\n",
       "        vertical-align: middle;\n",
       "    }\n",
       "\n",
       "    .dataframe tbody tr th {\n",
       "        vertical-align: top;\n",
       "    }\n",
       "\n",
       "    .dataframe thead th {\n",
       "        text-align: right;\n",
       "    }\n",
       "</style>\n",
       "<table border=\"1\" class=\"dataframe\">\n",
       "  <thead>\n",
       "    <tr style=\"text-align: right;\">\n",
       "      <th></th>\n",
       "      <th>embarked_C</th>\n",
       "      <th>embarked_Q</th>\n",
       "      <th>embarked_S</th>\n",
       "    </tr>\n",
       "  </thead>\n",
       "  <tbody>\n",
       "    <tr>\n",
       "      <th>0</th>\n",
       "      <td>0</td>\n",
       "      <td>0</td>\n",
       "      <td>1</td>\n",
       "    </tr>\n",
       "    <tr>\n",
       "      <th>1</th>\n",
       "      <td>0</td>\n",
       "      <td>0</td>\n",
       "      <td>1</td>\n",
       "    </tr>\n",
       "    <tr>\n",
       "      <th>2</th>\n",
       "      <td>0</td>\n",
       "      <td>0</td>\n",
       "      <td>1</td>\n",
       "    </tr>\n",
       "    <tr>\n",
       "      <th>3</th>\n",
       "      <td>0</td>\n",
       "      <td>0</td>\n",
       "      <td>1</td>\n",
       "    </tr>\n",
       "    <tr>\n",
       "      <th>4</th>\n",
       "      <td>0</td>\n",
       "      <td>0</td>\n",
       "      <td>1</td>\n",
       "    </tr>\n",
       "    <tr>\n",
       "      <th>...</th>\n",
       "      <td>...</td>\n",
       "      <td>...</td>\n",
       "      <td>...</td>\n",
       "    </tr>\n",
       "    <tr>\n",
       "      <th>1304</th>\n",
       "      <td>1</td>\n",
       "      <td>0</td>\n",
       "      <td>0</td>\n",
       "    </tr>\n",
       "    <tr>\n",
       "      <th>1305</th>\n",
       "      <td>1</td>\n",
       "      <td>0</td>\n",
       "      <td>0</td>\n",
       "    </tr>\n",
       "    <tr>\n",
       "      <th>1306</th>\n",
       "      <td>1</td>\n",
       "      <td>0</td>\n",
       "      <td>0</td>\n",
       "    </tr>\n",
       "    <tr>\n",
       "      <th>1307</th>\n",
       "      <td>1</td>\n",
       "      <td>0</td>\n",
       "      <td>0</td>\n",
       "    </tr>\n",
       "    <tr>\n",
       "      <th>1308</th>\n",
       "      <td>0</td>\n",
       "      <td>0</td>\n",
       "      <td>1</td>\n",
       "    </tr>\n",
       "  </tbody>\n",
       "</table>\n",
       "<p>1309 rows × 3 columns</p>\n",
       "</div>"
      ],
      "text/plain": [
       "      embarked_C  embarked_Q  embarked_S\n",
       "0              0           0           1\n",
       "1              0           0           1\n",
       "2              0           0           1\n",
       "3              0           0           1\n",
       "4              0           0           1\n",
       "...          ...         ...         ...\n",
       "1304           1           0           0\n",
       "1305           1           0           0\n",
       "1306           1           0           0\n",
       "1307           1           0           0\n",
       "1308           0           0           1\n",
       "\n",
       "[1309 rows x 3 columns]"
      ]
     },
     "execution_count": 164,
     "metadata": {},
     "output_type": "execute_result"
    }
   ],
   "source": [
    "pd.get_dummies(X.embarked, prefix=\"embarked\").astype(int)"
   ]
  },
  {
   "cell_type": "code",
   "execution_count": 162,
   "metadata": {},
   "outputs": [
    {
     "data": {
      "text/plain": [
       "array([-1])"
      ]
     },
     "execution_count": 162,
     "metadata": {},
     "output_type": "execute_result"
    }
   ],
   "source": [
    "import numpy as np\n",
    "np.array([0]) - np.array([1])"
   ]
  },
  {
   "cell_type": "code",
   "execution_count": 165,
   "metadata": {},
   "outputs": [],
   "source": [
    "X = X.join(pd.get_dummies(X.embarked,prefix=\"embarked\").astype(int))\n",
    "X = X.join(pd.get_dummies(X.sex, prefix=\"sex\").astype(int) )\n"
   ]
  },
  {
   "cell_type": "code",
   "execution_count": 166,
   "metadata": {},
   "outputs": [
    {
     "data": {
      "text/html": [
       "<div>\n",
       "<style scoped>\n",
       "    .dataframe tbody tr th:only-of-type {\n",
       "        vertical-align: middle;\n",
       "    }\n",
       "\n",
       "    .dataframe tbody tr th {\n",
       "        vertical-align: top;\n",
       "    }\n",
       "\n",
       "    .dataframe thead th {\n",
       "        text-align: right;\n",
       "    }\n",
       "</style>\n",
       "<table border=\"1\" class=\"dataframe\">\n",
       "  <thead>\n",
       "    <tr style=\"text-align: right;\">\n",
       "      <th></th>\n",
       "      <th>pclass</th>\n",
       "      <th>name</th>\n",
       "      <th>sex</th>\n",
       "      <th>age</th>\n",
       "      <th>sibsp</th>\n",
       "      <th>parch</th>\n",
       "      <th>ticket</th>\n",
       "      <th>fare</th>\n",
       "      <th>cabin</th>\n",
       "      <th>embarked</th>\n",
       "      <th>boat</th>\n",
       "      <th>body</th>\n",
       "      <th>home.dest</th>\n",
       "      <th>embarked_C</th>\n",
       "      <th>embarked_Q</th>\n",
       "      <th>embarked_S</th>\n",
       "      <th>sex_female</th>\n",
       "      <th>sex_male</th>\n",
       "    </tr>\n",
       "  </thead>\n",
       "  <tbody>\n",
       "    <tr>\n",
       "      <th>0</th>\n",
       "      <td>1</td>\n",
       "      <td>Allen, Miss. Elisabeth Walton</td>\n",
       "      <td>female</td>\n",
       "      <td>29.0000</td>\n",
       "      <td>0</td>\n",
       "      <td>0</td>\n",
       "      <td>24160</td>\n",
       "      <td>211.3375</td>\n",
       "      <td>B5</td>\n",
       "      <td>S</td>\n",
       "      <td>2</td>\n",
       "      <td>NaN</td>\n",
       "      <td>St Louis, MO</td>\n",
       "      <td>0</td>\n",
       "      <td>0</td>\n",
       "      <td>1</td>\n",
       "      <td>1</td>\n",
       "      <td>0</td>\n",
       "    </tr>\n",
       "    <tr>\n",
       "      <th>1</th>\n",
       "      <td>1</td>\n",
       "      <td>Allison, Master. Hudson Trevor</td>\n",
       "      <td>male</td>\n",
       "      <td>0.9167</td>\n",
       "      <td>1</td>\n",
       "      <td>2</td>\n",
       "      <td>113781</td>\n",
       "      <td>151.5500</td>\n",
       "      <td>C22 C26</td>\n",
       "      <td>S</td>\n",
       "      <td>11</td>\n",
       "      <td>NaN</td>\n",
       "      <td>Montreal, PQ / Chesterville, ON</td>\n",
       "      <td>0</td>\n",
       "      <td>0</td>\n",
       "      <td>1</td>\n",
       "      <td>0</td>\n",
       "      <td>1</td>\n",
       "    </tr>\n",
       "    <tr>\n",
       "      <th>2</th>\n",
       "      <td>1</td>\n",
       "      <td>Allison, Miss. Helen Loraine</td>\n",
       "      <td>female</td>\n",
       "      <td>2.0000</td>\n",
       "      <td>1</td>\n",
       "      <td>2</td>\n",
       "      <td>113781</td>\n",
       "      <td>151.5500</td>\n",
       "      <td>C22 C26</td>\n",
       "      <td>S</td>\n",
       "      <td>NaN</td>\n",
       "      <td>NaN</td>\n",
       "      <td>Montreal, PQ / Chesterville, ON</td>\n",
       "      <td>0</td>\n",
       "      <td>0</td>\n",
       "      <td>1</td>\n",
       "      <td>1</td>\n",
       "      <td>0</td>\n",
       "    </tr>\n",
       "    <tr>\n",
       "      <th>3</th>\n",
       "      <td>1</td>\n",
       "      <td>Allison, Mr. Hudson Joshua Creighton</td>\n",
       "      <td>male</td>\n",
       "      <td>30.0000</td>\n",
       "      <td>1</td>\n",
       "      <td>2</td>\n",
       "      <td>113781</td>\n",
       "      <td>151.5500</td>\n",
       "      <td>C22 C26</td>\n",
       "      <td>S</td>\n",
       "      <td>NaN</td>\n",
       "      <td>135.0</td>\n",
       "      <td>Montreal, PQ / Chesterville, ON</td>\n",
       "      <td>0</td>\n",
       "      <td>0</td>\n",
       "      <td>1</td>\n",
       "      <td>0</td>\n",
       "      <td>1</td>\n",
       "    </tr>\n",
       "    <tr>\n",
       "      <th>4</th>\n",
       "      <td>1</td>\n",
       "      <td>Allison, Mrs. Hudson J C (Bessie Waldo Daniels)</td>\n",
       "      <td>female</td>\n",
       "      <td>25.0000</td>\n",
       "      <td>1</td>\n",
       "      <td>2</td>\n",
       "      <td>113781</td>\n",
       "      <td>151.5500</td>\n",
       "      <td>C22 C26</td>\n",
       "      <td>S</td>\n",
       "      <td>NaN</td>\n",
       "      <td>NaN</td>\n",
       "      <td>Montreal, PQ / Chesterville, ON</td>\n",
       "      <td>0</td>\n",
       "      <td>0</td>\n",
       "      <td>1</td>\n",
       "      <td>1</td>\n",
       "      <td>0</td>\n",
       "    </tr>\n",
       "  </tbody>\n",
       "</table>\n",
       "</div>"
      ],
      "text/plain": [
       "   pclass                                             name     sex      age  \\\n",
       "0       1                    Allen, Miss. Elisabeth Walton  female  29.0000   \n",
       "1       1                   Allison, Master. Hudson Trevor    male   0.9167   \n",
       "2       1                     Allison, Miss. Helen Loraine  female   2.0000   \n",
       "3       1             Allison, Mr. Hudson Joshua Creighton    male  30.0000   \n",
       "4       1  Allison, Mrs. Hudson J C (Bessie Waldo Daniels)  female  25.0000   \n",
       "\n",
       "   sibsp  parch  ticket      fare    cabin embarked boat   body  \\\n",
       "0      0      0   24160  211.3375       B5        S    2    NaN   \n",
       "1      1      2  113781  151.5500  C22 C26        S   11    NaN   \n",
       "2      1      2  113781  151.5500  C22 C26        S  NaN    NaN   \n",
       "3      1      2  113781  151.5500  C22 C26        S  NaN  135.0   \n",
       "4      1      2  113781  151.5500  C22 C26        S  NaN    NaN   \n",
       "\n",
       "                         home.dest  embarked_C  embarked_Q  embarked_S  \\\n",
       "0                     St Louis, MO           0           0           1   \n",
       "1  Montreal, PQ / Chesterville, ON           0           0           1   \n",
       "2  Montreal, PQ / Chesterville, ON           0           0           1   \n",
       "3  Montreal, PQ / Chesterville, ON           0           0           1   \n",
       "4  Montreal, PQ / Chesterville, ON           0           0           1   \n",
       "\n",
       "   sex_female  sex_male  \n",
       "0           1         0  \n",
       "1           0         1  \n",
       "2           1         0  \n",
       "3           0         1  \n",
       "4           1         0  "
      ]
     },
     "execution_count": 166,
     "metadata": {},
     "output_type": "execute_result"
    }
   ],
   "source": [
    "X.head()"
   ]
  },
  {
   "cell_type": "code",
   "execution_count": 167,
   "metadata": {},
   "outputs": [],
   "source": [
    "X.drop(columns=[\"name\", \"ticket\", \"boat\", \"body\", \"home.dest\"],inplace=True)\n",
    "X = X.drop(columns=[\"embarked\", \"sex\", \"cabin\"])"
   ]
  },
  {
   "cell_type": "code",
   "execution_count": 168,
   "metadata": {},
   "outputs": [
    {
     "data": {
      "text/html": [
       "<div>\n",
       "<style scoped>\n",
       "    .dataframe tbody tr th:only-of-type {\n",
       "        vertical-align: middle;\n",
       "    }\n",
       "\n",
       "    .dataframe tbody tr th {\n",
       "        vertical-align: top;\n",
       "    }\n",
       "\n",
       "    .dataframe thead th {\n",
       "        text-align: right;\n",
       "    }\n",
       "</style>\n",
       "<table border=\"1\" class=\"dataframe\">\n",
       "  <thead>\n",
       "    <tr style=\"text-align: right;\">\n",
       "      <th></th>\n",
       "      <th>pclass</th>\n",
       "      <th>age</th>\n",
       "      <th>sibsp</th>\n",
       "      <th>parch</th>\n",
       "      <th>fare</th>\n",
       "      <th>embarked_C</th>\n",
       "      <th>embarked_Q</th>\n",
       "      <th>embarked_S</th>\n",
       "      <th>sex_female</th>\n",
       "      <th>sex_male</th>\n",
       "    </tr>\n",
       "  </thead>\n",
       "  <tbody>\n",
       "    <tr>\n",
       "      <th>0</th>\n",
       "      <td>1</td>\n",
       "      <td>29.0000</td>\n",
       "      <td>0</td>\n",
       "      <td>0</td>\n",
       "      <td>211.3375</td>\n",
       "      <td>0</td>\n",
       "      <td>0</td>\n",
       "      <td>1</td>\n",
       "      <td>1</td>\n",
       "      <td>0</td>\n",
       "    </tr>\n",
       "    <tr>\n",
       "      <th>1</th>\n",
       "      <td>1</td>\n",
       "      <td>0.9167</td>\n",
       "      <td>1</td>\n",
       "      <td>2</td>\n",
       "      <td>151.5500</td>\n",
       "      <td>0</td>\n",
       "      <td>0</td>\n",
       "      <td>1</td>\n",
       "      <td>0</td>\n",
       "      <td>1</td>\n",
       "    </tr>\n",
       "    <tr>\n",
       "      <th>2</th>\n",
       "      <td>1</td>\n",
       "      <td>2.0000</td>\n",
       "      <td>1</td>\n",
       "      <td>2</td>\n",
       "      <td>151.5500</td>\n",
       "      <td>0</td>\n",
       "      <td>0</td>\n",
       "      <td>1</td>\n",
       "      <td>1</td>\n",
       "      <td>0</td>\n",
       "    </tr>\n",
       "    <tr>\n",
       "      <th>3</th>\n",
       "      <td>1</td>\n",
       "      <td>30.0000</td>\n",
       "      <td>1</td>\n",
       "      <td>2</td>\n",
       "      <td>151.5500</td>\n",
       "      <td>0</td>\n",
       "      <td>0</td>\n",
       "      <td>1</td>\n",
       "      <td>0</td>\n",
       "      <td>1</td>\n",
       "    </tr>\n",
       "    <tr>\n",
       "      <th>4</th>\n",
       "      <td>1</td>\n",
       "      <td>25.0000</td>\n",
       "      <td>1</td>\n",
       "      <td>2</td>\n",
       "      <td>151.5500</td>\n",
       "      <td>0</td>\n",
       "      <td>0</td>\n",
       "      <td>1</td>\n",
       "      <td>1</td>\n",
       "      <td>0</td>\n",
       "    </tr>\n",
       "  </tbody>\n",
       "</table>\n",
       "</div>"
      ],
      "text/plain": [
       "   pclass      age  sibsp  parch      fare  embarked_C  embarked_Q  \\\n",
       "0       1  29.0000      0      0  211.3375           0           0   \n",
       "1       1   0.9167      1      2  151.5500           0           0   \n",
       "2       1   2.0000      1      2  151.5500           0           0   \n",
       "3       1  30.0000      1      2  151.5500           0           0   \n",
       "4       1  25.0000      1      2  151.5500           0           0   \n",
       "\n",
       "   embarked_S  sex_female  sex_male  \n",
       "0           1           1         0  \n",
       "1           1           0         1  \n",
       "2           1           1         0  \n",
       "3           1           0         1  \n",
       "4           1           1         0  "
      ]
     },
     "execution_count": 168,
     "metadata": {},
     "output_type": "execute_result"
    }
   ],
   "source": [
    "X.head()"
   ]
  },
  {
   "cell_type": "code",
   "execution_count": 169,
   "metadata": {},
   "outputs": [
    {
     "data": {
      "text/plain": [
       "pclass          1.000\n",
       "age            47.000\n",
       "sibsp           1.000\n",
       "parch           0.000\n",
       "fare          227.525\n",
       "embarked_C      1.000\n",
       "embarked_Q      0.000\n",
       "embarked_S      0.000\n",
       "sex_female      0.000\n",
       "sex_male        1.000\n",
       "Name: 10, dtype: float64"
      ]
     },
     "execution_count": 169,
     "metadata": {},
     "output_type": "execute_result"
    }
   ],
   "source": [
    "X.loc[10]"
   ]
  },
  {
   "cell_type": "code",
   "execution_count": 172,
   "metadata": {},
   "outputs": [
    {
     "data": {
      "text/plain": [
       "843.0"
      ]
     },
     "execution_count": 172,
     "metadata": {},
     "output_type": "execute_result"
    }
   ],
   "source": [
    "sum((X.loc[10] - X.loc[11]) ** 2)"
   ]
  },
  {
   "cell_type": "code",
   "execution_count": 192,
   "metadata": {},
   "outputs": [],
   "source": [
    "X.age = X.age.fillna(X.age.mean())\n",
    "X.fare = X.fare.fillna(X.fare.mean())\n"
   ]
  },
  {
   "cell_type": "code",
   "execution_count": 173,
   "metadata": {},
   "outputs": [
    {
     "data": {
      "text/plain": [
       "29.8811345124283"
      ]
     },
     "execution_count": 173,
     "metadata": {},
     "output_type": "execute_result"
    }
   ],
   "source": [
    "X.age.mean()"
   ]
  },
  {
   "cell_type": "markdown",
   "metadata": {},
   "source": [
    "## 2.1 Градиент"
   ]
  },
  {
   "cell_type": "code",
   "execution_count": 174,
   "metadata": {},
   "outputs": [],
   "source": [
    "import numpy as np\n",
    "import matplotlib.pyplot as plt"
   ]
  },
  {
   "cell_type": "code",
   "execution_count": 180,
   "metadata": {},
   "outputs": [
    {
     "data": {
      "image/png": "[encoded data removed]",
      "text/plain": [
       "<Figure size 640x480 with 1 Axes>"
      ]
     },
     "metadata": {},
     "output_type": "display_data"
    }
   ],
   "source": [
    "def f(x):\n",
    "    return x**2 - 4*x\n",
    "\n",
    "def derivative(x):\n",
    "    return 2 * x - 4\n",
    "\n",
    "\n",
    "x = 10\n",
    "traj = [x]\n",
    "lr = 1e-5 #0.01\n",
    "\n",
    "for iter in range(1000):\n",
    "    x -= lr * derivative(x)\n",
    "    traj.append(x)\n",
    "\n",
    "# Визуализация\n",
    "xs = np.linspace(-1, 4, 100)\n",
    "ys = f(xs)\n",
    "\n",
    "plt.plot(xs, ys, label='Function')\n",
    "plt.scatter(traj, f(np.array(traj)), color='red', label='Gradient Descent')\n",
    "plt.title('Gradient Descent for Our Function')\n",
    "plt.xlabel('x')\n",
    "plt.ylabel('f(x)')\n",
    "plt.legend()\n",
    "plt.show()"
   ]
  },
  {
   "cell_type": "code",
   "execution_count": 193,
   "metadata": {},
   "outputs": [],
   "source": [
    "def f(x,y):\n",
    "    return x**2 + y**2 + 2*x + 2*y + 1\n",
    "\n",
    "def dfdx(x, y):\n",
    "    return 2*x  + 2\n",
    "\n",
    "def dfdy(x, y):\n",
    "    return 2*y + 2\n",
    "\n",
    "x = 5\n",
    "y = 5\n",
    "x_traj = [x]\n",
    "y_traj = [y]\n",
    "\n",
    "lr = 1e-3\n",
    "\n",
    "for iter in range(50000):\n",
    "    x -= lr * dfdx(x,y)\n",
    "    y -= lr * dfdy(x,y)\n",
    "    x_traj.append(x)\n",
    "    y_traj.append(y)\n",
    "\n",
    "x_traj = np.array(x_traj)\n",
    "y_traj = np.array(y_traj)"
   ]
  },
  {
   "cell_type": "code",
   "execution_count": 194,
   "metadata": {},
   "outputs": [
    {
     "data": {
      "text/plain": [
       "Text(0.5, 0, 'f(x, y)')"
      ]
     },
     "execution_count": 194,
     "metadata": {},
     "output_type": "execute_result"
    },
    {
     "data": {
      "image/png": "[encoded data removed]",
      "text/plain": [
       "<Figure size 640x480 with 1 Axes>"
      ]
     },
     "metadata": {},
     "output_type": "display_data"
    }
   ],
   "source": [
    "fig = plt.figure()\n",
    "ax = fig.add_subplot(111, projection='3d')\n",
    "\n",
    "x_vals = np.linspace(-7, 5, 100)\n",
    "y_vals = np.linspace(-7, 5, 100)\n",
    "X_grid, Y_grid = np.meshgrid(x_vals, y_vals)\n",
    "Z_grid = f(X_grid, Y_grid)\n",
    "\n",
    "ax.plot_surface(X_grid, Y_grid, Z_grid, alpha=0.5, cmap='viridis')\n",
    "ax.scatter(x_traj, y_traj, f(x_traj, y_traj), color='red')\n",
    "ax.set_title('Gradient Descent for 2D Quadratic Function')\n",
    "ax.set_xlabel('x')\n",
    "ax.set_ylabel('y')\n",
    "ax.set_zlabel('f(x, y)')"
   ]
  },
  {
   "cell_type": "markdown",
   "metadata": {},
   "source": [
    "## Линейная регрессия"
   ]
  },
  {
   "cell_type": "markdown",
   "metadata": {},
   "source": [
    "Давайте вспомним, что такое задача линейной регрессии в рамках машинного обучения. \n",
    "\n",
    "У нас есть обучающая выборка $(X, \\boldsymbol{y})$, c $n$ объектами и $m$ признаками. (Значит размер $X$ - $n\\times m$)\n",
    "\n",
    "Алгоритм решения выбирается из пространства линейных функций:\n",
    "\n",
    "$a(\\boldsymbol{x}_k) = w_0 + w_1x_{k, 1} + \\ldots + w_mx_{k, m}$\n",
    "\n",
    "\n",
    "Нам нужно найти такое $a(\\cdot)$, чтобы решилась система уравнений\n",
    "$$\\begin{cases}\n",
    "a(\\boldsymbol{x}_1) = w_0 + w_1x_{1,1} + \\ldots + w_mx_{1,m} =  y_1\\\\\n",
    "\\ldots \\\\\n",
    "a(\\boldsymbol{x}_k) = w_0 + w_1x_{k,1} + \\ldots + w_mx_{k,m} =  y_k\\\\\n",
    "\\ldots \\\\\n",
    "a(\\boldsymbol{x}_n) = w_0 + w_1x_{n,1} + \\ldots + w_mx_{n,m} =  y_n\n",
    "\\end{cases}$$\n",
    "\n",
    "Давайте запишем в матричном виде, предварительно добавив к $X$ единичный столбец слева. $X = (I_{n\\times 1}|X)$. Получим:\n",
    "\n",
    "$$X\\boldsymbol{w} = \\boldsymbol{y}$$\n",
    "\n",
    "\n",
    "Но что делать если уравнений (строк или объектов в выборке) больше чем неизвестных (параметров w, соответствующих фичам)?\n",
    "\n",
    "Тогда мы не можем точно решить задачу и нужно искать наилучшее решение как-то по-другому. Давайте минимизировать лосс MSE:\n",
    "\n",
    "$$Q(a, X, \\boldsymbol{y}) =  MSE = \\frac{1}{n}\\sum_{k=1}^{n} (a(\\boldsymbol{x}_k)-y_k)^2 \\rightarrow min$$\n"
   ]
  },
  {
   "cell_type": "markdown",
   "metadata": {},
   "source": [
    "Который можно записать в более аккуратном матричном виде:\n",
    "$$L(\\boldsymbol{w}) = \\frac{1}{n}\\lVert X\\boldsymbol{w} - \\boldsymbol{y}\\rVert_2^2 \\rightarrow min$$\n",
    "\n",
    "$\\lVert \\boldsymbol{d} \\rVert_2^2 = \\sum_{i=1}^{n}d_1^2 + \\ldots + d_n^2$ -квадрат нормы эвклидовой метрики (т.е. просто корень не извлекаем. На то, с какими весами достигается минимум это не влияет)"
   ]
  },
  {
   "cell_type": "markdown",
   "metadata": {},
   "source": [
    "Теперь чтобы найти $w$ - применим единственно возможное действие, когда мы видим минимизацию линейной функции - возьмем производную по аргументу вектору или (тоже самое) возьмем частные производные каждого $w_i$.\n",
    "\n",
    "$$\\nabla_{\\boldsymbol{w}}L = \\begin{cases}\n",
    "\\frac{\\partial L}{\\partial w_0} = \\frac{1}{n}\\sum_{k=1}^{n} 2x_{k, 0}(a(\\boldsymbol{x}_k)-y_k)\\\\\n",
    "\\ldots \\\\\n",
    "\\frac{\\partial L}{\\partial w_i} = \\frac{1}{n}\\sum_{k=1}^{n} 2x_{k, i}(a(\\boldsymbol{x}_k)-y_k)\\\\\n",
    "\\ldots \\\\\n",
    "\\frac{\\partial L}{\\partial w_m} = \\frac{1}{n}\\sum_{k=1}^{n} 2x_{k, m}(a(\\boldsymbol{x}_k)-y_k)\n",
    "\\end{cases}$$"
   ]
  },
  {
   "cell_type": "markdown",
   "metadata": {},
   "source": [
    "$\\nabla_{\\boldsymbol{w}}L$ - называется **градиентом** линейной функции $L$, по парамеру вектору $\\boldsymbol{w}$ \n",
    "\n",
    "Если на эту систему внимательно посмотреть (или изучить матричное дифференцирование), можно понять, что данную систему можно записать тоже в матричном виде:\n",
    "\n",
    "$$ \\nabla_{\\boldsymbol{w}}L = \\frac{2}{n}X^{T}(X\\boldsymbol{w} - \\boldsymbol{y})$$"
   ]
  },
  {
   "cell_type": "markdown",
   "metadata": {},
   "source": [
    "Осталось совершить последнее стандартное действие - приравнять производную к нулевому вектору и решить матричное уравнение.\n",
    "\n",
    "$$ 0 = \\frac{2}{n}X^{T}(X\\boldsymbol{w} - \\boldsymbol{y})$$\n",
    "\n",
    "$$ X^{T}X\\boldsymbol{w} = X^{T}\\boldsymbol{y}$$\n",
    "\n",
    "$$ \\boldsymbol{w} = (X^{T}X)^{-1}X^{T}\\boldsymbol{y}$$"
   ]
  },
  {
   "cell_type": "code",
   "execution_count": 200,
   "metadata": {},
   "outputs": [
    {
     "data": {
      "text/plain": [
       "array([0.94552084, 0.54981766, 1.03686242, ..., 0.20612795, 0.20330946,\n",
       "       0.09610842])"
      ]
     },
     "execution_count": 200,
     "metadata": {},
     "output_type": "execute_result"
    }
   ],
   "source": [
    "from sklearn.linear_model import LinearRegression\n",
    "\n",
    "\n",
    "linreg = LinearRegression()\n",
    "linreg.fit(X_train, y_train)\n",
    "linreg.predict(X_test)"
   ]
  },
  {
   "cell_type": "code",
   "execution_count": 207,
   "metadata": {},
   "outputs": [
    {
     "data": {
      "text/html": [
       "<div>\n",
       "<style scoped>\n",
       "    .dataframe tbody tr th:only-of-type {\n",
       "        vertical-align: middle;\n",
       "    }\n",
       "\n",
       "    .dataframe tbody tr th {\n",
       "        vertical-align: top;\n",
       "    }\n",
       "\n",
       "    .dataframe thead th {\n",
       "        text-align: right;\n",
       "    }\n",
       "</style>\n",
       "<table border=\"1\" class=\"dataframe\">\n",
       "  <thead>\n",
       "    <tr style=\"text-align: right;\">\n",
       "      <th></th>\n",
       "      <th>pclass</th>\n",
       "      <th>age</th>\n",
       "      <th>sibsp</th>\n",
       "      <th>parch</th>\n",
       "      <th>fare</th>\n",
       "      <th>embarked_C</th>\n",
       "      <th>embarked_Q</th>\n",
       "      <th>embarked_S</th>\n",
       "      <th>sex_female</th>\n",
       "      <th>sex_male</th>\n",
       "    </tr>\n",
       "  </thead>\n",
       "  <tbody>\n",
       "    <tr>\n",
       "      <th>0</th>\n",
       "      <td>1</td>\n",
       "      <td>29.0000</td>\n",
       "      <td>0</td>\n",
       "      <td>0</td>\n",
       "      <td>211.3375</td>\n",
       "      <td>0</td>\n",
       "      <td>0</td>\n",
       "      <td>1</td>\n",
       "      <td>1</td>\n",
       "      <td>0</td>\n",
       "    </tr>\n",
       "    <tr>\n",
       "      <th>1</th>\n",
       "      <td>1</td>\n",
       "      <td>0.9167</td>\n",
       "      <td>1</td>\n",
       "      <td>2</td>\n",
       "      <td>151.5500</td>\n",
       "      <td>0</td>\n",
       "      <td>0</td>\n",
       "      <td>1</td>\n",
       "      <td>0</td>\n",
       "      <td>1</td>\n",
       "    </tr>\n",
       "    <tr>\n",
       "      <th>2</th>\n",
       "      <td>1</td>\n",
       "      <td>2.0000</td>\n",
       "      <td>1</td>\n",
       "      <td>2</td>\n",
       "      <td>151.5500</td>\n",
       "      <td>0</td>\n",
       "      <td>0</td>\n",
       "      <td>1</td>\n",
       "      <td>1</td>\n",
       "      <td>0</td>\n",
       "    </tr>\n",
       "    <tr>\n",
       "      <th>3</th>\n",
       "      <td>1</td>\n",
       "      <td>30.0000</td>\n",
       "      <td>1</td>\n",
       "      <td>2</td>\n",
       "      <td>151.5500</td>\n",
       "      <td>0</td>\n",
       "      <td>0</td>\n",
       "      <td>1</td>\n",
       "      <td>0</td>\n",
       "      <td>1</td>\n",
       "    </tr>\n",
       "    <tr>\n",
       "      <th>4</th>\n",
       "      <td>1</td>\n",
       "      <td>25.0000</td>\n",
       "      <td>1</td>\n",
       "      <td>2</td>\n",
       "      <td>151.5500</td>\n",
       "      <td>0</td>\n",
       "      <td>0</td>\n",
       "      <td>1</td>\n",
       "      <td>1</td>\n",
       "      <td>0</td>\n",
       "    </tr>\n",
       "  </tbody>\n",
       "</table>\n",
       "</div>"
      ],
      "text/plain": [
       "   pclass      age  sibsp  parch      fare  embarked_C  embarked_Q  \\\n",
       "0       1  29.0000      0      0  211.3375           0           0   \n",
       "1       1   0.9167      1      2  151.5500           0           0   \n",
       "2       1   2.0000      1      2  151.5500           0           0   \n",
       "3       1  30.0000      1      2  151.5500           0           0   \n",
       "4       1  25.0000      1      2  151.5500           0           0   \n",
       "\n",
       "   embarked_S  sex_female  sex_male  \n",
       "0           1           1         0  \n",
       "1           1           0         1  \n",
       "2           1           1         0  \n",
       "3           1           0         1  \n",
       "4           1           1         0  "
      ]
     },
     "execution_count": 207,
     "metadata": {},
     "output_type": "execute_result"
    }
   ],
   "source": [
    "X.head()"
   ]
  },
  {
   "cell_type": "code",
   "execution_count": 206,
   "metadata": {},
   "outputs": [
    {
     "data": {
      "text/plain": [
       "array([-1.55551027e-01, -5.63698457e-03, -4.22357176e-02, -2.67564261e-03,\n",
       "        2.21952756e-04, -1.05935214e-01, -1.81573179e-01, -2.02006555e-01,\n",
       "        2.46575654e-01, -2.46575654e-01])"
      ]
     },
     "execution_count": 206,
     "metadata": {},
     "output_type": "execute_result"
    }
   ],
   "source": [
    "linreg.coef_"
   ]
  },
  {
   "cell_type": "code",
   "execution_count": 209,
   "metadata": {},
   "outputs": [
    {
     "data": {
      "text/html": [
       "<div>\n",
       "<style scoped>\n",
       "    .dataframe tbody tr th:only-of-type {\n",
       "        vertical-align: middle;\n",
       "    }\n",
       "\n",
       "    .dataframe tbody tr th {\n",
       "        vertical-align: top;\n",
       "    }\n",
       "\n",
       "    .dataframe thead th {\n",
       "        text-align: right;\n",
       "    }\n",
       "</style>\n",
       "<table border=\"1\" class=\"dataframe\">\n",
       "  <thead>\n",
       "    <tr style=\"text-align: right;\">\n",
       "      <th></th>\n",
       "      <th>value</th>\n",
       "    </tr>\n",
       "  </thead>\n",
       "  <tbody>\n",
       "    <tr>\n",
       "      <th>sex_male</th>\n",
       "      <td>-0.246576</td>\n",
       "    </tr>\n",
       "    <tr>\n",
       "      <th>embarked_S</th>\n",
       "      <td>-0.202007</td>\n",
       "    </tr>\n",
       "    <tr>\n",
       "      <th>embarked_Q</th>\n",
       "      <td>-0.181573</td>\n",
       "    </tr>\n",
       "    <tr>\n",
       "      <th>pclass</th>\n",
       "      <td>-0.155551</td>\n",
       "    </tr>\n",
       "    <tr>\n",
       "      <th>embarked_C</th>\n",
       "      <td>-0.105935</td>\n",
       "    </tr>\n",
       "    <tr>\n",
       "      <th>sibsp</th>\n",
       "      <td>-0.042236</td>\n",
       "    </tr>\n",
       "    <tr>\n",
       "      <th>age</th>\n",
       "      <td>-0.005637</td>\n",
       "    </tr>\n",
       "    <tr>\n",
       "      <th>parch</th>\n",
       "      <td>-0.002676</td>\n",
       "    </tr>\n",
       "    <tr>\n",
       "      <th>fare</th>\n",
       "      <td>0.000222</td>\n",
       "    </tr>\n",
       "    <tr>\n",
       "      <th>sex_female</th>\n",
       "      <td>0.246576</td>\n",
       "    </tr>\n",
       "  </tbody>\n",
       "</table>\n",
       "</div>"
      ],
      "text/plain": [
       "               value\n",
       "sex_male   -0.246576\n",
       "embarked_S -0.202007\n",
       "embarked_Q -0.181573\n",
       "pclass     -0.155551\n",
       "embarked_C -0.105935\n",
       "sibsp      -0.042236\n",
       "age        -0.005637\n",
       "parch      -0.002676\n",
       "fare        0.000222\n",
       "sex_female  0.246576"
      ]
     },
     "execution_count": 209,
     "metadata": {},
     "output_type": "execute_result"
    }
   ],
   "source": [
    "\n",
    "coefs = pd.DataFrame(\n",
    "    linreg.coef_, columns=[\"value\"], index=X.columns\n",
    ")\n",
    "coefs.sort_values(by=\"value\")"
   ]
  },
  {
   "cell_type": "markdown",
   "metadata": {},
   "source": [
    "## Регуляризация"
   ]
  },
  {
   "cell_type": "markdown",
   "metadata": {},
   "source": [
    "\n",
    "\n",
    "$$L =\\frac{1}{n}(\\frac{1}{2}\\lVert X\\boldsymbol{w} - \\boldsymbol{y} \\rVert_2^2 + \\frac{\\lambda}{2}\\lVert \\boldsymbol{w} \\rVert_2^2) \\rightarrow \\min$$\n",
    "\n",
    "Точным решением этой задачи минимазации будет\n",
    "$$\\boldsymbol{w} = (X^TX + \\lambda E)^{-1}X^{T}\\boldsymbol{y}$$\n",
    "\n",
    "(можете вывести это самостоятельно или посмотреть схему вывода [тут](https://alexanderdyakonov.wordpress.com/2019/10/31/%D0%BB%D0%B8%D0%BD%D0%B5%D0%B9%D0%BD%D0%B0%D1%8F-%D1%80%D0%B5%D0%B3%D1%80%D0%B5%D1%81%D1%81%D0%B8%D1%8F/))"
   ]
  },
  {
   "cell_type": "markdown",
   "metadata": {},
   "source": [
    "Круто то, что матрица $(X^{T}X + \\lambda E)$ - всегда будет иметь обратную, потому что обратной нет в случае линейной зависимости строк, а линейная зависимость между строками не переживёт прибавления $\\lambda E$, так как мы докинем лямбду в разные компоненты для разных векторов и это сломает выразимость одних через другие"
   ]
  },
  {
   "cell_type": "markdown",
   "metadata": {},
   "source": [
    "##### Регуляризация может предотвратить переобучение!"
   ]
  },
  {
   "cell_type": "markdown",
   "metadata": {},
   "source": [
    "![ridge](images/ridge.png)"
   ]
  },
  {
   "cell_type": "markdown",
   "metadata": {},
   "source": [
    "Еще на деле часто применяют $Lasso$ или $L1$ регуляризацию:\n",
    "$$L =\\frac{1}{n}(\\frac{1}{2}\\lVert X\\boldsymbol{w} - \\boldsymbol{y} \\rVert_2^2 + \\lambda\\lVert \\boldsymbol{w} \\rVert) \\rightarrow \\min$$\n",
    "$\\lVert \\boldsymbol{w} \\rVert = \\sum_{i=1}^{n}|w_i|$ - сумма модулей"
   ]
  },
  {
   "cell_type": "markdown",
   "metadata": {},
   "source": [
    "![coefs](images/lasso_ridge_coefficients.png)"
   ]
  },
  {
   "cell_type": "code",
   "execution_count": null,
   "metadata": {},
   "outputs": [],
   "source": []
  },
  {
   "cell_type": "code",
   "execution_count": 133,
   "metadata": {},
   "outputs": [
    {
     "data": {
      "text/plain": [
       "array([0.94841046, 0.42005434, 0.89623338, ..., 0.20949597, 0.20667588,\n",
       "       0.1000166 ])"
      ]
     },
     "execution_count": 133,
     "metadata": {},
     "output_type": "execute_result"
    }
   ],
   "source": [
    "from sklearn.linear_model import Ridge\n",
    "\n",
    "ridge = Ridge(alpha=10)\n",
    "ridge.fit(X, y)\n",
    "ridge.predict(X)"
   ]
  },
  {
   "cell_type": "code",
   "execution_count": 134,
   "metadata": {},
   "outputs": [
    {
     "data": {
      "text/html": [
       "<div>\n",
       "<style scoped>\n",
       "    .dataframe tbody tr th:only-of-type {\n",
       "        vertical-align: middle;\n",
       "    }\n",
       "\n",
       "    .dataframe tbody tr th {\n",
       "        vertical-align: top;\n",
       "    }\n",
       "\n",
       "    .dataframe thead th {\n",
       "        text-align: right;\n",
       "    }\n",
       "</style>\n",
       "<table border=\"1\" class=\"dataframe\">\n",
       "  <thead>\n",
       "    <tr style=\"text-align: right;\">\n",
       "      <th></th>\n",
       "      <th>value</th>\n",
       "    </tr>\n",
       "  </thead>\n",
       "  <tbody>\n",
       "    <tr>\n",
       "      <th>sex_male</th>\n",
       "      <td>-0.241145</td>\n",
       "    </tr>\n",
       "    <tr>\n",
       "      <th>pclass</th>\n",
       "      <td>-0.149213</td>\n",
       "    </tr>\n",
       "    <tr>\n",
       "      <th>cabin_C22 C26</th>\n",
       "      <td>-0.133882</td>\n",
       "    </tr>\n",
       "    <tr>\n",
       "      <th>cabin_A29</th>\n",
       "      <td>-0.085858</td>\n",
       "    </tr>\n",
       "    <tr>\n",
       "      <th>cabin_C49</th>\n",
       "      <td>-0.078594</td>\n",
       "    </tr>\n",
       "    <tr>\n",
       "      <th>...</th>\n",
       "      <td>...</td>\n",
       "    </tr>\n",
       "    <tr>\n",
       "      <th>cabin_F4</th>\n",
       "      <td>0.102668</td>\n",
       "    </tr>\n",
       "    <tr>\n",
       "      <th>cabin_E25</th>\n",
       "      <td>0.105857</td>\n",
       "    </tr>\n",
       "    <tr>\n",
       "      <th>cabin_E24</th>\n",
       "      <td>0.108210</td>\n",
       "    </tr>\n",
       "    <tr>\n",
       "      <th>cabin_A34</th>\n",
       "      <td>0.114187</td>\n",
       "    </tr>\n",
       "    <tr>\n",
       "      <th>sex_female</th>\n",
       "      <td>0.241145</td>\n",
       "    </tr>\n",
       "  </tbody>\n",
       "</table>\n",
       "<p>196 rows × 1 columns</p>\n",
       "</div>"
      ],
      "text/plain": [
       "                  value\n",
       "sex_male      -0.241145\n",
       "pclass        -0.149213\n",
       "cabin_C22 C26 -0.133882\n",
       "cabin_A29     -0.085858\n",
       "cabin_C49     -0.078594\n",
       "...                 ...\n",
       "cabin_F4       0.102668\n",
       "cabin_E25      0.105857\n",
       "cabin_E24      0.108210\n",
       "cabin_A34      0.114187\n",
       "sex_female     0.241145\n",
       "\n",
       "[196 rows x 1 columns]"
      ]
     },
     "execution_count": 134,
     "metadata": {},
     "output_type": "execute_result"
    }
   ],
   "source": [
    "coefs = pd.DataFrame(\n",
    "    ridge.coef_, columns=[\"value\"], index=X.columns\n",
    ")\n",
    "coefs.sort_values(by=\"value\")"
   ]
  },
  {
   "cell_type": "markdown",
   "metadata": {},
   "source": [
    "## Посчитаем  сложности "
   ]
  },
  {
   "cell_type": "markdown",
   "metadata": {},
   "source": [
    "Мы долго говорили о красивой математике, чтобы сейчас ее разом выбросить. Посмотрим на наше решение\n",
    "\n",
    "$$\\boldsymbol{w} = (X^TX + \\lambda E)^{-1}X^{T}\\boldsymbol{y}$$\n",
    "\n",
    "Подсчет обратной матрицы составляет [$O(m^3)$](https://ru.wikipedia.org/wiki/%D0%9E%D0%B1%D1%80%D0%B0%D1%82%D0%BD%D0%B0%D1%8F_%D0%BC%D0%B0%D1%82%D1%80%D0%B8%D1%86%D0%B0)\n",
    "\n",
    "\n",
    "Перемножение 2-х матриц (n,k) и (k,m): [$O(nmk)$](https://ru.wikipedia.org/wiki/%D0%A3%D0%BC%D0%BD%D0%BE%D0%B6%D0%B5%D0%BD%D0%B8%D0%B5_%D0%BC%D0%B0%D1%82%D1%80%D0%B8%D1%86)\n",
    "\n",
    "Суммарно у нас затратится $O(n^2m + m + m^3 + nm + m) = O(n^2m + m^3 )$\n",
    "\n",
    "При $n > 1000000$ мы уже вымрем, а это не такое уж  и большое число объектов для реальных задач мл. Нужно придумать что-то получше.\n"
   ]
  },
  {
   "cell_type": "markdown",
   "metadata": {},
   "source": [
    "## Градиентный спуск\n"
   ]
  },
  {
   "cell_type": "markdown",
   "metadata": {},
   "source": [
    "Давайте вернемся к **градиенту**, который мы считали для регуляризации.\n",
    "\n",
    "\n",
    "$$ \\nabla_{\\boldsymbol{w}}L = \\frac{1}{n} X^{T}(X\\boldsymbol{w} - \\boldsymbol{y})$$\n",
    "\n",
    "Градиент обозначает движение функции на возрастание. Почему бы нам не двигаться против возрастания функции, чтобы достичь минимума?\n",
    "\n",
    "\n",
    "Пусть мы взяли какую-то точку на нашей гиперплоскости (инициализировали случайные веса) и посчитали градиент в этой точке и решили двигаться в другом направлении?\n",
    "\n",
    "\n",
    "Для вектора\n",
    "$$\\boldsymbol{w}^{(t+1)} = \\boldsymbol{w}^{(t)} - \\eta \\nabla_{\\boldsymbol{w}}L $$\n",
    "\n",
    "Для элемента вектора\n",
    "$$w_i^{(t+1)} = w_i^{(t)} - \\frac{\\eta}{n} \\sum_{k=1}^{n} 2x_{k, i}(a(\\boldsymbol{x}_k)-y_k) $$\n"
   ]
  },
  {
   "cell_type": "markdown",
   "metadata": {},
   "source": [
    "$t$ - номер итерации. \n",
    "\n",
    "$\\eta$ - learning rate (коэффициент шага обучения)\n",
    "\n",
    "Такой процесс назовем **градиентным спуском**. Очевидно, что градиентный спуск сходится в какой-нибудь минимум.\n",
    "\n",
    "Будет выглядять примерно так- "
   ]
  },
  {
   "cell_type": "markdown",
   "metadata": {},
   "source": [
    "![grad](images/grad.png)"
   ]
  },
  {
   "cell_type": "markdown",
   "metadata": {},
   "source": [
    "### SGD"
   ]
  },
  {
   "cell_type": "markdown",
   "metadata": {},
   "source": [
    "\n",
    "А давайте теперь не к минимуму всей выборки, а только к **одному произвольному объекту**\n",
    "\n",
    "\n",
    "Теперь вместо этого\n",
    "$$ \\nabla_{\\boldsymbol{w}}L = \\frac{2}{n}X^{T}(X\\boldsymbol{w} - \\boldsymbol{y})$$\n",
    "\n",
    "Мы получили вот такое для произвольной пары $(\\boldsymbol{x}_k, y_k)$\n",
    "\n",
    "$$ \\nabla_{\\boldsymbol{w}}L^k = 2(\\boldsymbol{x}_k)^{T}(\\boldsymbol{x}_k^T\\boldsymbol{w} - y_k)$$\n",
    "\n",
    "**Это не k-ый элемент вектора градиента, это вектор градиента посчитанный только по объекту $\\boldsymbol{x}_k$**\n",
    "\n",
    "Тогда пересчет весов будет происходить соответственно\n",
    "\n",
    "Для вектора\n",
    "$$\\boldsymbol{w}^{(t+1)} = \\boldsymbol{w}^{(t)} - \\eta \\nabla_{\\boldsymbol{w}}L^k$$\n",
    "\n",
    "Для элемента вектора\n",
    "$$w_i^{(t+1)} = w_i^{(t)} - \\eta 2 x_{k,i}(a(\\boldsymbol{x}_k)-y_k) $$\n",
    "\n",
    "На двойку в целом наплевать\n",
    "\n",
    "$$w_i^{(t+1)} = w_i^{(t)} - \\eta x_{k,i}(a(\\boldsymbol{x}_k)-y_k) $$\n"
   ]
  }
 ],
 "metadata": {
  "kernelspec": {
   "display_name": "Python 3",
   "language": "python",
   "name": "python3"
  },
  "language_info": {
   "codemirror_mode": {
    "name": "ipython",
    "version": 3
   },
   "file_extension": ".py",
   "mimetype": "text/x-python",
   "name": "python",
   "nbconvert_exporter": "python",
   "pygments_lexer": "ipython3",
   "version": "3.11.5"
  }
 },
 "nbformat": 4,
 "nbformat_minor": 2
}
