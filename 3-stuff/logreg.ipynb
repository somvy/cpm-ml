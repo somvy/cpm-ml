{
 "cells": [
  {
   "cell_type": "markdown",
   "metadata": {},
   "source": [
    "## Логистическая регрессия\n"
   ]
  },
  {
   "cell_type": "markdown",
   "metadata": {},
   "source": [
    "Множество точек $\\boldsymbol{x}_k^T\\boldsymbol{w} = 0$ является гиперплоскостью и делит пространство на 2 части по разные стороны от этой самой гиперплоскости. При этом объекты, расположенные по разные стороны от неё, полученный классификатор относит к различным классам в зависимости от знака скалярного произведения.\n",
    "\n",
    "![](https://habrastorage.org/getpro/habr/post_images/555/369/344/5553693449d97a6ccb730f4760a2eacd.png)\n",
    "\n",
    "\n",
    "Так давайте сделаем функцию \n",
    "\n",
    "$$a(\\boldsymbol{x}) = sign(\\boldsymbol{x}^T\\boldsymbol{w})$$\n",
    "\n",
    "$sign(z)$ - равна 0, если $z < 0$, $1$ если $z > 0$,. \n",
    "\n",
    "Вот только эта функция дискретная, а значит недиффиренцируема. Давайте найдем такую функцию, которая **однозначно** переводит $[-\\infty, +\\infty]$ в $[0, 1]$, то есть получим вероятности принадлежности к классу 1."
   ]
  },
  {
   "cell_type": "markdown",
   "metadata": {},
   "source": [
    "В качестве такой функции будем использовать [сигмоиду](https://ru.wikipedia.org/wiki/%D0%A1%D0%B8%D0%B3%D0%BC%D0%BE%D0%B8%D0%B4%D0%B0) (иногда называется логистическая функция): $$\\sigma(z)=\\frac{1}{1+e^{-z}}$$\n",
    "![](https://upload.wikimedia.org/wikipedia/commons/a/ac/Logistic-curve.png)\n"
   ]
  },
  {
   "cell_type": "code",
   "execution_count": null,
   "metadata": {},
   "outputs": [
    {
     "data": {
      "text/plain": [
       "array([1, 1, 1, ..., 0, 0, 0])"
      ]
     },
     "metadata": {},
     "output_type": "display_data"
    }
   ],
   "source": [
    "from sklearn.linear_model import LogisticRegression\n",
    "\n",
    "logreg = LogisticRegression(max_iter=1000, C=.1)\n",
    "\n",
    "logreg.fit(X, y)\n",
    "logreg.predict(X)"
   ]
  }
 ],
 "metadata": {
  "language_info": {
   "name": "python"
  }
 },
 "nbformat": 4,
 "nbformat_minor": 2
}
