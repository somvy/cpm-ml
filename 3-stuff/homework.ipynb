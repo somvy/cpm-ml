{
  "cells": [
    {
      "cell_type": "code",
      "execution_count": null,
      "metadata": {
        "id": "oC28Ec2LwBRE"
      },
      "outputs": [],
      "source": [
        "import pandas as pd\n",
        "from sklearn.model_selection import train_test_split\n",
        "from sklearn.linear_model import LogisticRegression\n",
        "import matplotlib.pyplot as plt\n",
        "import seaborn as sns\n",
        "from sklearn.metrics import confusion_matrix"
      ]
    },
    {
      "cell_type": "code",
      "execution_count": null,
      "metadata": {
        "colab": {
          "base_uri": "https://localhost:8080/",
          "height": 273
        },
        "id": "aWYvh_HMz5jj",
        "outputId": "41fe1edb-f192-4f3b-abb6-53bd9de2cbef"
      },
      "outputs": [
        {
          "data": {
            "text/html": [
              "\n",
              "  <div id=\"df-830d75ee-4bd7-4052-b9cb-823f85c14d20\" class=\"colab-df-container\">\n",
              "    <div>\n",
              "<style scoped>\n",
              "    .dataframe tbody tr th:only-of-type {\n",
              "        vertical-align: middle;\n",
              "    }\n",
              "\n",
              "    .dataframe tbody tr th {\n",
              "        vertical-align: top;\n",
              "    }\n",
              "\n",
              "    .dataframe thead th {\n",
              "        text-align: right;\n",
              "    }\n",
              "</style>\n",
              "<table border=\"1\" class=\"dataframe\">\n",
              "  <thead>\n",
              "    <tr style=\"text-align: right;\">\n",
              "      <th></th>\n",
              "      <th>Unnamed: 0</th>\n",
              "      <th>age</th>\n",
              "      <th>job</th>\n",
              "      <th>marital</th>\n",
              "      <th>education</th>\n",
              "      <th>default</th>\n",
              "      <th>housing</th>\n",
              "      <th>loan</th>\n",
              "      <th>contact</th>\n",
              "      <th>month</th>\n",
              "      <th>...</th>\n",
              "      <th>campaign</th>\n",
              "      <th>pdays</th>\n",
              "      <th>previous</th>\n",
              "      <th>poutcome</th>\n",
              "      <th>emp.var.rate</th>\n",
              "      <th>cons.price.idx</th>\n",
              "      <th>cons.conf.idx</th>\n",
              "      <th>euribor3m</th>\n",
              "      <th>nr.employed</th>\n",
              "      <th>y</th>\n",
              "    </tr>\n",
              "  </thead>\n",
              "  <tbody>\n",
              "    <tr>\n",
              "      <th>0</th>\n",
              "      <td>0</td>\n",
              "      <td>56</td>\n",
              "      <td>services</td>\n",
              "      <td>married</td>\n",
              "      <td>high.school</td>\n",
              "      <td>no</td>\n",
              "      <td>no</td>\n",
              "      <td>yes</td>\n",
              "      <td>telephone</td>\n",
              "      <td>may</td>\n",
              "      <td>...</td>\n",
              "      <td>1</td>\n",
              "      <td>999</td>\n",
              "      <td>0</td>\n",
              "      <td>nonexistent</td>\n",
              "      <td>1.1</td>\n",
              "      <td>93.994</td>\n",
              "      <td>-36.4</td>\n",
              "      <td>4.857</td>\n",
              "      <td>5191.0</td>\n",
              "      <td>no</td>\n",
              "    </tr>\n",
              "    <tr>\n",
              "      <th>1</th>\n",
              "      <td>1</td>\n",
              "      <td>59</td>\n",
              "      <td>admin.</td>\n",
              "      <td>married</td>\n",
              "      <td>professional.course</td>\n",
              "      <td>no</td>\n",
              "      <td>no</td>\n",
              "      <td>no</td>\n",
              "      <td>telephone</td>\n",
              "      <td>may</td>\n",
              "      <td>...</td>\n",
              "      <td>1</td>\n",
              "      <td>999</td>\n",
              "      <td>0</td>\n",
              "      <td>nonexistent</td>\n",
              "      <td>1.1</td>\n",
              "      <td>93.994</td>\n",
              "      <td>-36.4</td>\n",
              "      <td>4.857</td>\n",
              "      <td>5191.0</td>\n",
              "      <td>no</td>\n",
              "    </tr>\n",
              "    <tr>\n",
              "      <th>2</th>\n",
              "      <td>2</td>\n",
              "      <td>57</td>\n",
              "      <td>housemaid</td>\n",
              "      <td>divorced</td>\n",
              "      <td>basic.4y</td>\n",
              "      <td>no</td>\n",
              "      <td>yes</td>\n",
              "      <td>no</td>\n",
              "      <td>telephone</td>\n",
              "      <td>may</td>\n",
              "      <td>...</td>\n",
              "      <td>1</td>\n",
              "      <td>999</td>\n",
              "      <td>0</td>\n",
              "      <td>nonexistent</td>\n",
              "      <td>1.1</td>\n",
              "      <td>93.994</td>\n",
              "      <td>-36.4</td>\n",
              "      <td>4.857</td>\n",
              "      <td>5191.0</td>\n",
              "      <td>no</td>\n",
              "    </tr>\n",
              "    <tr>\n",
              "      <th>3</th>\n",
              "      <td>3</td>\n",
              "      <td>41</td>\n",
              "      <td>technician</td>\n",
              "      <td>single</td>\n",
              "      <td>high.school</td>\n",
              "      <td>no</td>\n",
              "      <td>yes</td>\n",
              "      <td>no</td>\n",
              "      <td>telephone</td>\n",
              "      <td>may</td>\n",
              "      <td>...</td>\n",
              "      <td>1</td>\n",
              "      <td>999</td>\n",
              "      <td>0</td>\n",
              "      <td>nonexistent</td>\n",
              "      <td>1.1</td>\n",
              "      <td>93.994</td>\n",
              "      <td>-36.4</td>\n",
              "      <td>4.857</td>\n",
              "      <td>5191.0</td>\n",
              "      <td>no</td>\n",
              "    </tr>\n",
              "    <tr>\n",
              "      <th>4</th>\n",
              "      <td>4</td>\n",
              "      <td>58</td>\n",
              "      <td>management</td>\n",
              "      <td>unknown</td>\n",
              "      <td>university.degree</td>\n",
              "      <td>no</td>\n",
              "      <td>yes</td>\n",
              "      <td>no</td>\n",
              "      <td>telephone</td>\n",
              "      <td>may</td>\n",
              "      <td>...</td>\n",
              "      <td>1</td>\n",
              "      <td>999</td>\n",
              "      <td>0</td>\n",
              "      <td>nonexistent</td>\n",
              "      <td>1.1</td>\n",
              "      <td>93.994</td>\n",
              "      <td>-36.4</td>\n",
              "      <td>4.857</td>\n",
              "      <td>5191.0</td>\n",
              "      <td>no</td>\n",
              "    </tr>\n",
              "  </tbody>\n",
              "</table>\n",
              "<p>5 rows × 22 columns</p>\n",
              "</div>\n",
              "    <div class=\"colab-df-buttons\">\n",
              "\n",
              "  <div class=\"colab-df-container\">\n",
              "    <button class=\"colab-df-convert\" onclick=\"convertToInteractive('df-830d75ee-4bd7-4052-b9cb-823f85c14d20')\"\n",
              "            title=\"Convert this dataframe to an interactive table.\"\n",
              "            style=\"display:none;\">\n",
              "\n",
              "  <svg xmlns=\"http://www.w3.org/2000/svg\" height=\"24px\" viewBox=\"0 -960 960 960\">\n",
              "    <path d=\"M120-120v-720h720v720H120Zm60-500h600v-160H180v160Zm220 220h160v-160H400v160Zm0 220h160v-160H400v160ZM180-400h160v-160H180v160Zm440 0h160v-160H620v160ZM180-180h160v-160H180v160Zm440 0h160v-160H620v160Z\"/>\n",
              "  </svg>\n",
              "    </button>\n",
              "\n",
              "  <style>\n",
              "    .colab-df-container {\n",
              "      display:flex;\n",
              "      gap: 12px;\n",
              "    }\n",
              "\n",
              "    .colab-df-convert {\n",
              "      background-color: #E8F0FE;\n",
              "      border: none;\n",
              "      border-radius: 50%;\n",
              "      cursor: pointer;\n",
              "      display: none;\n",
              "      fill: #1967D2;\n",
              "      height: 32px;\n",
              "      padding: 0 0 0 0;\n",
              "      width: 32px;\n",
              "    }\n",
              "\n",
              "    .colab-df-convert:hover {\n",
              "      background-color: #E2EBFA;\n",
              "      box-shadow: 0px 1px 2px rgba(60, 64, 67, 0.3), 0px 1px 3px 1px rgba(60, 64, 67, 0.15);\n",
              "      fill: #174EA6;\n",
              "    }\n",
              "\n",
              "    .colab-df-buttons div {\n",
              "      margin-bottom: 4px;\n",
              "    }\n",
              "\n",
              "    [theme=dark] .colab-df-convert {\n",
              "      background-color: #3B4455;\n",
              "      fill: #D2E3FC;\n",
              "    }\n",
              "\n",
              "    [theme=dark] .colab-df-convert:hover {\n",
              "      background-color: #434B5C;\n",
              "      box-shadow: 0px 1px 3px 1px rgba(0, 0, 0, 0.15);\n",
              "      filter: drop-shadow(0px 1px 2px rgba(0, 0, 0, 0.3));\n",
              "      fill: #FFFFFF;\n",
              "    }\n",
              "  </style>\n",
              "\n",
              "    <script>\n",
              "      const buttonEl =\n",
              "        document.querySelector('#df-830d75ee-4bd7-4052-b9cb-823f85c14d20 button.colab-df-convert');\n",
              "      buttonEl.style.display =\n",
              "        google.colab.kernel.accessAllowed ? 'block' : 'none';\n",
              "\n",
              "      async function convertToInteractive(key) {\n",
              "        const element = document.querySelector('#df-830d75ee-4bd7-4052-b9cb-823f85c14d20');\n",
              "        const dataTable =\n",
              "          await google.colab.kernel.invokeFunction('convertToInteractive',\n",
              "                                                    [key], {});\n",
              "        if (!dataTable) return;\n",
              "\n",
              "        const docLinkHtml = 'Like what you see? Visit the ' +\n",
              "          '<a target=\"_blank\" href=https://colab.research.google.com/notebooks/data_table.ipynb>data table notebook</a>'\n",
              "          + ' to learn more about interactive tables.';\n",
              "        element.innerHTML = '';\n",
              "        dataTable['output_type'] = 'display_data';\n",
              "        await google.colab.output.renderOutput(dataTable, element);\n",
              "        const docLink = document.createElement('div');\n",
              "        docLink.innerHTML = docLinkHtml;\n",
              "        element.appendChild(docLink);\n",
              "      }\n",
              "    </script>\n",
              "  </div>\n",
              "\n",
              "\n",
              "<div id=\"df-7bc3ed83-b5d6-486e-be30-265ca38767bd\">\n",
              "  <button class=\"colab-df-quickchart\" onclick=\"quickchart('df-7bc3ed83-b5d6-486e-be30-265ca38767bd')\"\n",
              "            title=\"Suggest charts\"\n",
              "            style=\"display:none;\">\n",
              "\n",
              "<svg xmlns=\"http://www.w3.org/2000/svg\" height=\"24px\"viewBox=\"0 0 24 24\"\n",
              "     width=\"24px\">\n",
              "    <g>\n",
              "        <path d=\"M19 3H5c-1.1 0-2 .9-2 2v14c0 1.1.9 2 2 2h14c1.1 0 2-.9 2-2V5c0-1.1-.9-2-2-2zM9 17H7v-7h2v7zm4 0h-2V7h2v10zm4 0h-2v-4h2v4z\"/>\n",
              "    </g>\n",
              "</svg>\n",
              "  </button>\n",
              "\n",
              "<style>\n",
              "  .colab-df-quickchart {\n",
              "      --bg-color: #E8F0FE;\n",
              "      --fill-color: #1967D2;\n",
              "      --hover-bg-color: #E2EBFA;\n",
              "      --hover-fill-color: #174EA6;\n",
              "      --disabled-fill-color: #AAA;\n",
              "      --disabled-bg-color: #DDD;\n",
              "  }\n",
              "\n",
              "  [theme=dark] .colab-df-quickchart {\n",
              "      --bg-color: #3B4455;\n",
              "      --fill-color: #D2E3FC;\n",
              "      --hover-bg-color: #434B5C;\n",
              "      --hover-fill-color: #FFFFFF;\n",
              "      --disabled-bg-color: #3B4455;\n",
              "      --disabled-fill-color: #666;\n",
              "  }\n",
              "\n",
              "  .colab-df-quickchart {\n",
              "    background-color: var(--bg-color);\n",
              "    border: none;\n",
              "    border-radius: 50%;\n",
              "    cursor: pointer;\n",
              "    display: none;\n",
              "    fill: var(--fill-color);\n",
              "    height: 32px;\n",
              "    padding: 0;\n",
              "    width: 32px;\n",
              "  }\n",
              "\n",
              "  .colab-df-quickchart:hover {\n",
              "    background-color: var(--hover-bg-color);\n",
              "    box-shadow: 0 1px 2px rgba(60, 64, 67, 0.3), 0 1px 3px 1px rgba(60, 64, 67, 0.15);\n",
              "    fill: var(--button-hover-fill-color);\n",
              "  }\n",
              "\n",
              "  .colab-df-quickchart-complete:disabled,\n",
              "  .colab-df-quickchart-complete:disabled:hover {\n",
              "    background-color: var(--disabled-bg-color);\n",
              "    fill: var(--disabled-fill-color);\n",
              "    box-shadow: none;\n",
              "  }\n",
              "\n",
              "  .colab-df-spinner {\n",
              "    border: 2px solid var(--fill-color);\n",
              "    border-color: transparent;\n",
              "    border-bottom-color: var(--fill-color);\n",
              "    animation:\n",
              "      spin 1s steps(1) infinite;\n",
              "  }\n",
              "\n",
              "  @keyframes spin {\n",
              "    0% {\n",
              "      border-color: transparent;\n",
              "      border-bottom-color: var(--fill-color);\n",
              "      border-left-color: var(--fill-color);\n",
              "    }\n",
              "    20% {\n",
              "      border-color: transparent;\n",
              "      border-left-color: var(--fill-color);\n",
              "      border-top-color: var(--fill-color);\n",
              "    }\n",
              "    30% {\n",
              "      border-color: transparent;\n",
              "      border-left-color: var(--fill-color);\n",
              "      border-top-color: var(--fill-color);\n",
              "      border-right-color: var(--fill-color);\n",
              "    }\n",
              "    40% {\n",
              "      border-color: transparent;\n",
              "      border-right-color: var(--fill-color);\n",
              "      border-top-color: var(--fill-color);\n",
              "    }\n",
              "    60% {\n",
              "      border-color: transparent;\n",
              "      border-right-color: var(--fill-color);\n",
              "    }\n",
              "    80% {\n",
              "      border-color: transparent;\n",
              "      border-right-color: var(--fill-color);\n",
              "      border-bottom-color: var(--fill-color);\n",
              "    }\n",
              "    90% {\n",
              "      border-color: transparent;\n",
              "      border-bottom-color: var(--fill-color);\n",
              "    }\n",
              "  }\n",
              "</style>\n",
              "\n",
              "  <script>\n",
              "    async function quickchart(key) {\n",
              "      const quickchartButtonEl =\n",
              "        document.querySelector('#' + key + ' button');\n",
              "      quickchartButtonEl.disabled = true;  // To prevent multiple clicks.\n",
              "      quickchartButtonEl.classList.add('colab-df-spinner');\n",
              "      try {\n",
              "        const charts = await google.colab.kernel.invokeFunction(\n",
              "            'suggestCharts', [key], {});\n",
              "      } catch (error) {\n",
              "        console.error('Error during call to suggestCharts:', error);\n",
              "      }\n",
              "      quickchartButtonEl.classList.remove('colab-df-spinner');\n",
              "      quickchartButtonEl.classList.add('colab-df-quickchart-complete');\n",
              "    }\n",
              "    (() => {\n",
              "      let quickchartButtonEl =\n",
              "        document.querySelector('#df-7bc3ed83-b5d6-486e-be30-265ca38767bd button');\n",
              "      quickchartButtonEl.style.display =\n",
              "        google.colab.kernel.accessAllowed ? 'block' : 'none';\n",
              "    })();\n",
              "  </script>\n",
              "</div>\n",
              "    </div>\n",
              "  </div>\n"
            ],
            "text/plain": [
              "   Unnamed: 0  age         job   marital            education default housing  \\\n",
              "0           0   56    services   married          high.school      no      no   \n",
              "1           1   59      admin.   married  professional.course      no      no   \n",
              "2           2   57   housemaid  divorced             basic.4y      no     yes   \n",
              "3           3   41  technician    single          high.school      no     yes   \n",
              "4           4   58  management   unknown    university.degree      no     yes   \n",
              "\n",
              "  loan    contact month  ... campaign  pdays  previous     poutcome  \\\n",
              "0  yes  telephone   may  ...        1    999         0  nonexistent   \n",
              "1   no  telephone   may  ...        1    999         0  nonexistent   \n",
              "2   no  telephone   may  ...        1    999         0  nonexistent   \n",
              "3   no  telephone   may  ...        1    999         0  nonexistent   \n",
              "4   no  telephone   may  ...        1    999         0  nonexistent   \n",
              "\n",
              "   emp.var.rate cons.price.idx  cons.conf.idx  euribor3m  nr.employed   y  \n",
              "0           1.1         93.994          -36.4      4.857       5191.0  no  \n",
              "1           1.1         93.994          -36.4      4.857       5191.0  no  \n",
              "2           1.1         93.994          -36.4      4.857       5191.0  no  \n",
              "3           1.1         93.994          -36.4      4.857       5191.0  no  \n",
              "4           1.1         93.994          -36.4      4.857       5191.0  no  \n",
              "\n",
              "[5 rows x 22 columns]"
            ]
          },
          "execution_count": 3,
          "metadata": {},
          "output_type": "execute_result"
        }
      ],
      "source": [
        "# Загружаем данные, смотрим на них\n",
        "# данные в репозитории, с домашкой\n",
        "\n",
        "data = pd.read_csv('/content/bank-additional-balanced.csv')\n",
        "data.head()"
      ]
    },
    {
      "cell_type": "code",
      "execution_count": null,
      "metadata": {
        "id": "u6OV0p-dz_2s"
      },
      "outputs": [],
      "source": [
        "# Так как огромное количество данных - это строки, которые подать в алгоритм мы не сможем, необходимо поменять их на числа\n",
        "# Преобразование категориальных признаков в числовые с использованием One-Hot Encoding\n",
        "data = pd.get_dummies(data, columns=['job', 'marital', 'education', 'default', 'housing', 'loan', 'contact', 'month', 'poutcome'])\n",
        "# Преобразование целевой переменной в числовой формат\n",
        "data['y'] = ..."
      ]
    },
    {
      "cell_type": "code",
      "execution_count": null,
      "metadata": {
        "id": "sS46bVeK1pQB"
      },
      "outputs": [],
      "source": [
        "# Определение остальных категориальных признаков\n",
        "categorical_features = data.select_dtypes(include=['object']).columns.tolist()\n",
        "\n",
        "# Удаление категориальных признаков (если их не слишком много)\n",
        "..."
      ]
    },
    {
      "cell_type": "code",
      "execution_count": null,
      "metadata": {
        "id": "vVv7uIMF1Iz0"
      },
      "outputs": [],
      "source": [
        "# Разделение данных на обучающий и тестовый наборы\n",
        "..."
      ]
    },
    {
      "cell_type": "code",
      "execution_count": null,
      "metadata": {
        "colab": {
          "base_uri": "https://localhost:8080/"
        },
        "id": "sPbzWtFc2SAO",
        "outputId": "aa2d6499-3404-480f-891b-9ecc7bd2bcb6"
      },
      "outputs": [],
      "source": [
        "# Обучение модели логистической регрессии с использованием GridSearchCV\n",
        "parameters = {'C': [0.001, 0.01, 0.1, 1, 10, 100]}\n",
        "logreg = LogisticRegression(solver='liblinear')\n",
        "grid_search = ...\n",
        "grid_search.fit(...)\n",
        "\n",
        "# Вывод лучших параметров\n",
        "print(\"Лучшие параметры:\", ...)"
      ]
    },
    {
      "cell_type": "markdown",
      "metadata": {
        "id": "jYZhGcHF3Ao6"
      },
      "source": [
        "Когда алгоритм оптимизации, например, lbfgs, не сходится к оптимальному решению, переключение на liblinear иногда может помочь, так как алгоритмы различаются в своих подходах к оптимизации."
      ]
    },
    {
      "cell_type": "code",
      "execution_count": null,
      "metadata": {
        "id": "Pc66fsXr2ZZE"
      },
      "outputs": [],
      "source": [
        "# Нам необходимо написать функции для метрик\n",
        "import numpy as np\n",
        "\n",
        "def calculate_precision(y_true, y_pred):\n",
        "    true_positives = ...\n",
        "    predicted_positives = np.sum(y_pred == 1)\n",
        "    if predicted_positives == 0:\n",
        "        return 0\n",
        "    return ... / predicted_positives\n",
        "\n",
        "def calculate_recall(y_true, y_pred):\n",
        "    true_positives = ...\n",
        "    actual_positives = np.sum(y_true == 1)\n",
        "    if actual_positives == 0:\n",
        "        return 0\n",
        "    return ... / actual_positives\n",
        "\n",
        "def calculate_accuracy(y_true, y_pred):\n",
        "    correct_predictions = ...\n",
        "    total_samples = len(y_true)\n",
        "    return ... / ..."
      ]
    },
    {
      "cell_type": "code",
      "execution_count": null,
      "metadata": {
        "id": "emMNtWm-4XPE"
      },
      "outputs": [],
      "source": [
        "# Получение предсказаний с лучшими параметрами\n",
        "best_params = ...\n",
        "logreg_best = LogisticRegression(C=best_params['C'], solver='liblinear')\n",
        "logreg_best.fit(...)\n",
        "y_pred_best = ..."
      ]
    },
    {
      "cell_type": "code",
      "execution_count": null,
      "metadata": {
        "id": "RhQXVi3Y4ZSU"
      },
      "outputs": [],
      "source": [
        "# Вычисление метрик\n",
        "accuracy_best = ...\n",
        "precision_best = ...\n",
        "recall_best = ..."
      ]
    },
    {
      "cell_type": "code",
      "execution_count": null,
      "metadata": {
        "colab": {
          "base_uri": "https://localhost:8080/",
          "height": 468
        },
        "id": "9TLHhjnS4Fgt",
        "outputId": "9655a1e2-6859-44be-bd82-6b9dd3aef15c"
      },
      "outputs": [
        {
          "data": {
            "image/png": "[encoded data removed]",
            "text/plain": [
              "<Figure size 800x500 with 1 Axes>"
            ]
          },
          "metadata": {},
          "output_type": "display_data"
        }
      ],
      "source": [
        "def plot_metrics(accuracy, precision, recall, model_name):\n",
        "    labels = ['Accuracy', 'Precision', 'Recall']\n",
        "    values = [..., ..., ...]\n",
        "\n",
        "    plt.figure(figsize=(8, 5))\n",
        "    sns.barplot(..., ..., palette='viridis')\n",
        "    plt.title(f\"Evaluation Metrics for {model_name}\")\n",
        "    plt.show()\n",
        "\n",
        "# Визуализация метрик для лучших параметров\n",
        "plot_metrics(accuracy_best, precision_best, recall_best, \"Logistic Regression (Best Parameters)\")"
      ]
    },
    {
      "cell_type": "markdown",
      "metadata": {
        "id": "-zxj9Hv05dXK"
      },
      "source": [
        "Давайте узнаем точные данные"
      ]
    },
    {
      "cell_type": "code",
      "execution_count": null,
      "metadata": {
        "colab": {
          "base_uri": "https://localhost:8080/"
        },
        "id": "-W0VKT155YuS",
        "outputId": "6dd51ed8-c5a5-4972-a5b4-dcd8ff220e3b"
      },
      "outputs": [
        {
          "name": "stdout",
          "output_type": "stream",
          "text": [
            "Metrics for Logistic Regression with Best Parameters:\n",
            "Accuracy: 0.8766163793103449\n",
            "Precision: 0.8619599578503688\n",
            "Recall: 0.8930131004366813\n"
          ]
        }
      ],
      "source": [
        "print(\"Metrics for Logistic Regression with Best Parameters:\")\n",
        "..."
      ]
    },
    {
      "cell_type": "markdown",
      "metadata": {},
      "source": [
        "Сделайте фунцию, отображающую Confusion matrix модели, сравните ответ с реализацией из sklearn"
      ]
    },
    {
      "cell_type": "code",
      "execution_count": null,
      "metadata": {},
      "outputs": [],
      "source": [
        "from sklearn.metrics import confusion_matrix\n",
        "\n",
        "def custom_confusion_matrix(y_pred, y_real):\n",
        "    ..."
      ]
    },
    {
      "cell_type": "markdown",
      "metadata": {
        "id": "BIZMmQwE6CUY"
      },
      "source": [
        "<h1><bold>ПРОДВИНУТАЯ ЧАСТЬ<bold></h1>"
      ]
    },
    {
      "cell_type": "markdown",
      "metadata": {
        "id": "80i8Xaae6UBu"
      },
      "source": [
        "Помимо метрик recall, accuracy и precision Вам необходимо будет сравнить еще и Roc-Auc\n",
        "\n",
        "Если неудобно пользоваться шаблоном, можно писать по-своему. Эффективность здесь не имее значения\n"
      ]
    },
    {
      "cell_type": "code",
      "execution_count": null,
      "metadata": {
        "id": "3XSOtsg85boV"
      },
      "outputs": [],
      "source": [
        "def calculate_roc_auc_custom(y_true, y_pred_prob, num_thresholds=100):\n",
        "    thresholds = np.linspace(0, 1, num_thresholds)\n",
        "    tpr_values = []\n",
        "    fpr_values = []\n",
        "\n",
        "    total_positive = ...\n",
        "    total_negative = ...\n",
        "\n",
        "    for threshold in thresholds:\n",
        "        y_pred_labels = (y_pred_prob >= threshold).astype(int)\n",
        "\n",
        "        tp_count = np.sum((...) & (...))\n",
        "        fp_count = np.sum((y_true == 0) & (y_pred_labels == 1))\n",
        "\n",
        "        tpr = tp_count / ...\n",
        "        fpr = ... / total_negative\n",
        "\n",
        "        tpr_values.append(...)\n",
        "        fpr_values.append(...)\n",
        "\n",
        "    # Площадь под ROC-кривой (AUC) с использованием метода трапеции\n",
        "    roc_auc = np.abs(np.trapz(tpr_values, fpr_values))\n",
        "    return roc_auc\n"
      ]
    },
    {
      "cell_type": "code",
      "execution_count": null,
      "metadata": {
        "colab": {
          "base_uri": "https://localhost:8080/"
        },
        "id": "XvtleXLt601A",
        "outputId": "f5a00d17-3045-49db-bbf3-75bf102761b5"
      },
      "outputs": [
        {
          "name": "stdout",
          "output_type": "stream",
          "text": [
            "Custom ROC AUC for Best Model (Grid Search): 0.9402135789278083\n",
            "Custom ROC AUC for Blended Model: 0.9395858496701662\n"
          ]
        }
      ],
      "source": [
        "# Сброс индексов для X_test и y_test\n",
        "X_test_reset_index = X_test.reset_index(drop=True)\n",
        "y_test_reset_index = y_test.reset_index(drop=True)\n",
        "\n",
        "# Получение вероятностей для модели\n",
        "y_pred_prob_best = logreg_best.predict_proba(X_test_reset_index)[:, 1]\n",
        "\n",
        "# Получение вероятностей для первой модели\n",
        "y_pred_prob1 = ...\n",
        "\n",
        "# Получение вероятностей для второй модели\n",
        "y_pred_prob2 = ...\n",
        "\n",
        "# Обновление индексов для вероятностей\n",
        "y_pred_prob_best_df = pd.Series(y_pred_prob_best, index=y_test_reset_index.index)\n",
        "y_pred_prob1_df = ...\n",
        "y_pred_prob2_df = ...\n",
        "\n",
        "\n",
        "# Рассчитываем ROC AUC для каждой модели\n",
        "roc_auc_best = ...\n",
        "\n",
        "print(\"Custom ROC AUC for Best Model (Grid Search):\", roc_auc_best)"
      ]
    },
    {
      "cell_type": "code",
      "execution_count": null,
      "metadata": {
        "id": "l3dlG9zLgttg"
      },
      "outputs": [],
      "source": [
        "def plot_roc_curve(y_true, y_pred_prob1, y_pred_prob2, label1='Model 1', label2='Model 2', num_thresholds=100):\n",
        "    # Генерация порогов для ROC-кривой\n",
        "    thresholds = np.linspace(0, 1, num_thresholds)\n",
        "    # Инициализация списков для сохранения значений True Positive Rate (TPR) и False Positive Rate (FPR)\n",
        "    tpr_values1 = []\n",
        "    fpr_values1 = []\n",
        "    tpr_values2 = []\n",
        "    fpr_values2 = []\n",
        "\n",
        "    # Вычисление общего количества положительных и отрицательных случаев\n",
        "    total_positive = ...\n",
        "    total_negative = ...\n",
        "\n",
        "    # Рассчитываем TPR и FPR для каждого порога\n",
        "    for threshold in thresholds:\n",
        "        # Применение порога к предсказанным вероятностям для получения меток классов\n",
        "        y_pred_labels1 = (y_pred_prob1 >= threshold).astype(int)\n",
        "        y_pred_labels2 = (y_pred_prob2 >= threshold).astype(int)\n",
        "\n",
        "        # Вычисление TP и FP для каждой модели\n",
        "        tp_count1 = ...\n",
        "        fp_count1 = ...\n",
        "        tp_count2 = ...\n",
        "        fp_count2 = ...\n",
        "\n",
        "        # Вычисление TPR и FPR для каждой модели\n",
        "        tpr1 = tp_count1 / total_positive\n",
        "        fpr1 = fp_count1 / total_negative\n",
        "        tpr2 = tp_count2 / total_positive\n",
        "        fpr2 = fp_count2 / total_negative\n",
        "\n",
        "        # Сохранение значений TPR и FPR в списки\n",
        "        tpr_values1.append(...)\n",
        "        fpr_values1.append(...)\n",
        "        tpr_values2.append(...)\n",
        "        fpr_values2.append(fpr2)\n",
        "\n",
        "    # Вычисление площади под ROC-кривой (AUC) с использованием метода трапеции\n",
        "    roc_auc1 = np.abs(np.trapz(tpr_values1, fpr_values1))\n",
        "    roc_auc2 = np.abs(np.trapz(tpr_values2, fpr_values2))\n",
        "\n",
        "    # Построение ROC-кривых\n",
        "\n",
        "    plt.figure(figsize=(8, 8))\n",
        "    plt.plot(fpr_values1, tpr_values1, color='blue', lw=2, label=f'{label1} (AUC = {roc_auc1:.5f})')\n",
        "    plt.plot(..., ..., color='red', lw=2, label=f'{label2} (AUC = {roc_auc2:.5f})')\n",
        "    plt.plot([0, 1], [0, 1], color='black', lw=2, linestyle='--', label='Random')\n",
        "    plt.title('ROC Curve')\n",
        "    plt.xlabel('False Positive Rate')\n",
        "    plt.ylabel('True Positive Rate')\n",
        "    plt.legend()\n",
        "    plt.show()"
      ]
    },
    {
      "cell_type": "code",
      "execution_count": null,
      "metadata": {
        "colab": {
          "base_uri": "https://localhost:8080/",
          "height": 718
        },
        "id": "Ahtzv74E9ws_",
        "outputId": "9eb5972f-699e-4058-f5be-9f607d0b8233"
      },
      "outputs": [
        {
          "data": {
            "image/png": "[encoded data removed]",
            "text/plain": [
              "<Figure size 800x800 with 1 Axes>"
            ]
          },
          "metadata": {},
          "output_type": "display_data"
        }
      ],
      "source": [
        "plot_roc_curve(y_test_reset_index, ..., y_pred_prob_blend, label1='Best Model', label2='Blended Model')"
      ]
    }
  ],
  "metadata": {
    "colab": {
      "provenance": []
    },
    "kernelspec": {
      "display_name": "Python 3",
      "name": "python3"
    },
    "language_info": {
      "name": "python"
    }
  },
  "nbformat": 4,
  "nbformat_minor": 0
}
