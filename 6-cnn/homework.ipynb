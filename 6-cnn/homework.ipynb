{
  "cells": [
    {
      "cell_type": "code",
      "execution_count": 2,
      "metadata": {
        "id": "N_9gQLMvd6bw"
      },
      "outputs": [],
      "source": [
        "import torch\n",
        "import torch.nn as nn\n",
        "import torchvision\n",
        "import torchvision.transforms as transforms\n",
        "import matplotlib.pyplot as plt\n",
        "import numpy as np"
      ]
    },
    {
      "cell_type": "markdown",
      "metadata": {
        "id": "s5c-4V3xeBos"
      },
      "source": [
        "<h1>Работаем со светочными сетями</h1>"
      ]
    },
    {
      "cell_type": "markdown",
      "metadata": {
        "id": "G-s9LwoEk1Rr"
      },
      "source": [
        "![image.png](data:image/png;base64,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)"
      ]
    },
    {
      "cell_type": "markdown",
      "metadata": {},
      "source": [
        "Обучать сверточные нейросети уже не так просто, как линейные - больше данных, больше параметров. Поэтому чтобы ускорять обучение, будем пользоваться видеокартой.\n",
        "\n"
      ]
    },
    {
      "cell_type": "code",
      "execution_count": 3,
      "metadata": {},
      "outputs": [
        {
          "data": {
            "text/plain": [
              "False"
            ]
          },
          "execution_count": 3,
          "metadata": {},
          "output_type": "execute_result"
        }
      ],
      "source": [
        "# Чтобы узнать, доступна ли видеокарта через торч, пишем вот такое\n",
        "# на колабе должно выдавать True\n",
        "# если запускаете у себя на компе, нужно немного повозиться и поставить правильную версию торча\n",
        "# https://pytorch.org/get-started/locally/ \n",
        "\n",
        "torch.cuda.is_available()"
      ]
    },
    {
      "cell_type": "code",
      "execution_count": 4,
      "metadata": {},
      "outputs": [],
      "source": [
        "# хорошая практика - в начале обучения смотрим какое у нас устройство, фиксируем его\n",
        "# cuda - значит обучаемся на видеокарте, модель хранится в ее памяти \n",
        "# cpu - обучаемся \"на процессоре\", модель хранится в оперативной памяти\n",
        "\n",
        " \n",
        "device = \"cuda\" if torch.cuda.is_available() else \"cpu\""
      ]
    },
    {
      "cell_type": "code",
      "execution_count": 6,
      "metadata": {},
      "outputs": [
        {
          "data": {
            "text/plain": [
              "tensor([[0., 0., 0., 0.],\n",
              "        [0., 0., 0., 0.],\n",
              "        [0., 0., 0., 0.]])"
            ]
          },
          "execution_count": 6,
          "metadata": {},
          "output_type": "execute_result"
        }
      ],
      "source": [
        "x = torch.zeros(3,4)\n",
        "\n",
        "# теперь, чтобы переместить что-нибудь на это устройство пишем:\n",
        "x.to(device)\n",
        "\n",
        "# это нам нужно, чтобы все матрицы находились на одном устройстве\n",
        "# и сама модель и входные данные\n",
        "# ведь, согласитесь, будет странно, если модель на видеокарте, а входная картинка осталась на cpu"
      ]
    },
    {
      "cell_type": "code",
      "execution_count": null,
      "metadata": {
        "id": "9oD99UNOWndC"
      },
      "outputs": [],
      "source": [
        "import torch.nn.functional as F\n",
        "# обявляем нашу модель, тут с архитектурой можно играться как угодно, главное чтобы сходилось!\n",
        "# не забываем трекать что какой размер картинки на каком этапе\n",
        "# входная картинка - 3 * 32 * 32\n",
        "# на выходе нужно получить 10 чисел - вероятности для каждого класса\n",
        "# forward тоже можно менять)\n",
        "\n",
        "# не забываем про фукнции активации, batchnorm, dropout!\n",
        "\n",
        "class CustomModel(nn.Module):\n",
        "    def __init__(self, num_classes=10):\n",
        "        super(CustomModel, self).__init__()\n",
        "        self.convs = nn.Sequential(\n",
        "            nn.Conv2d(in_channels=3, out_channels=96, kernel_size=3, stride=1, padding=1),\n",
        "            nn.ReLU(),\n",
        "\n",
        "            ....\n",
        "\n",
        "            nn.MaxPool2d(kernel_size=2, stride=2),\n",
        "            nn.Flatten()\n",
        "            )\n",
        "        self.linear = nn.Sequential(\n",
        "            ...\n",
        "            nn.Linear(4096, num_classes)\n",
        "        )\n",
        "\n",
        "    def forward(self, x):\n",
        "        \n",
        "        return self.linear(self.convs(x))"
      ]
    },
    {
      "cell_type": "code",
      "execution_count": 8,
      "metadata": {
        "colab": {
          "base_uri": "https://localhost:8080/",
          "height": 262
        },
        "id": "khslH9v0b2Qf",
        "outputId": "12b84aa9-bb7e-4a05-e67c-762d8c6d8312"
      },
      "outputs": [
        {
          "name": "stdout",
          "output_type": "stream",
          "text": [
            "Files already downloaded and verified\n"
          ]
        },
        {
          "data": {
            "image/png": "[encoded data removed]",
            "text/plain": [
              "<Figure size 640x480 with 1 Axes>"
            ]
          },
          "metadata": {},
          "output_type": "display_data"
        },
        {
          "name": "stdout",
          "output_type": "stream",
          "text": [
            "  dog  frog horse   dog\n"
          ]
        }
      ],
      "source": [
        "# Загрузка CIFAR-10 датасета\n",
        "transform = transforms.Compose([transforms.ToTensor(), transforms.Normalize((0.5, 0.5, 0.5), (0.5, 0.5, 0.5))])\n",
        "\n",
        "# Загружаем CIFAR-10\n",
        "trainset = torchvision.datasets.CIFAR10(root='./data', train=True, download=True, transform=transform)\n",
        "trainloader = torch.utils.data.DataLoader(trainset, batch_size=4, shuffle=True, num_workers=2)\n",
        "\n",
        "# testset = ...\n",
        "# testloader = ...\n",
        "\n",
        "# Классы CIFAR-10\n",
        "classes = ('plane', 'car', 'bird', 'cat', 'deer', 'dog', 'frog', 'horse', 'ship', 'truck')\n",
        "\n",
        "# Функция для отображения изображений\n",
        "def imshow(img):\n",
        "    img = img / 2 + 0.5\n",
        "    npimg = img.numpy()\n",
        "    plt.imshow(np.transpose(npimg, (1, 2, 0)))\n",
        "    plt.show()\n",
        "\n",
        "# Получаем случайные изображения из тренировочного датасета\n",
        "images, labels = next(iter(trainloader))\n",
        "\n",
        "# Отображаем изображения\n",
        "imshow(torchvision.utils.make_grid(images))\n",
        "# Выводим метки\n",
        "print(' '.join('%5s' % classes[labels[j]] for j in range(4)))"
      ]
    },
    {
      "cell_type": "code",
      "execution_count": 10,
      "metadata": {},
      "outputs": [
        {
          "data": {
            "text/plain": [
              "torch.Size([3, 32, 32])"
            ]
          },
          "execution_count": 10,
          "metadata": {},
          "output_type": "execute_result"
        }
      ],
      "source": [
        "images[0].shape"
      ]
    },
    {
      "cell_type": "code",
      "execution_count": null,
      "metadata": {
        "id": "2Z3ETW_pg4eM"
      },
      "outputs": [],
      "source": [
        "# Инициализация модели, функции потерь и оптимизатора\n",
        "num_classes = ...  # Для CIFAR-10 у нас 10 классов\n",
        "# Переносим модель на CUDA\n",
        "custom_model = ...(num_classes=num_classes).cuda()\n",
        "criterion = nn.CrossEntropyLoss()\n",
        "optimizer = torch.optim.SGD(custom_model.parameters(), lr=0.001, momentum=0.9)\n",
        "# Переносим данные на CUDA\n",
        "images, labels = ..., ..."
      ]
    },
    {
      "cell_type": "code",
      "execution_count": null,
      "metadata": {
        "colab": {
          "base_uri": "https://localhost:8080/"
        },
        "id": "A6nrt0d0eMor",
        "outputId": "f09149e5-604a-49fd-ee76-2e923271ff5b"
      },
      "outputs": [
        {
          "name": "stdout",
          "output_type": "stream",
          "text": [
            "Accuracy of the network on the 10000 test images: 78 %\n"
          ]
        }
      ],
      "source": [
        "# Обучение нашей нейросети\n",
        "num_epochs = 5\n",
        "for epoch in range(num_epochs):\n",
        "    for i, data in enumerate(trainloader, 0):\n",
        "        inputs, labels = data\n",
        "        inputs, labels = inputs.cuda(), labels.cuda()  # Переносим данные на CUDA\n",
        "        optimizer.zero_grad()\n",
        "        outputs = custom_model(inputs)\n",
        "        loss = criterion(outputs, labels)\n",
        "        loss.backward()\n",
        "        optimizer.step()\n",
        "\n",
        "# Тестирование нейросети\n",
        "correct = 0\n",
        "total = 0\n",
        "with torch.no_grad():\n",
        "    for data in ...:\n",
        "        inputs, labels = data\n",
        "        inputs, labels = inputs.cuda(), labels.cuda()  # Переносим данные на CUDA\n",
        "        outputs = custom_model(inputs)\n",
        "        _, predicted = torch.max(outputs.data, 1)\n",
        "        total += labels.size(0)\n",
        "        correct += (predicted == labels).sum().item()\n",
        "\n",
        "print('Accuracy of the network on the 10000 test images: %d %%' % (100 * ... / ...))"
      ]
    },
    {
      "cell_type": "markdown",
      "metadata": {
        "id": "E95jiJ4j1unH"
      },
      "source": [
        "<h1>Продвинутая часть, новогодняя</h1>"
      ]
    },
    {
      "cell_type": "markdown",
      "metadata": {
        "id": "3-mKS8bf1x_X"
      },
      "source": [
        "Приготовьте любимое новогоднее блюдо, закиньте вашу довольную фотку в чатик курса)\n",
        "\n",
        "\n",
        "ИЛИ\n",
        "\n",
        "Запишите кружочек с новогодним обращением\n",
        "\n",
        "С наступающим)!"
      ]
    }
  ],
  "metadata": {
    "accelerator": "GPU",
    "colab": {
      "gpuType": "T4",
      "provenance": []
    },
    "kernelspec": {
      "display_name": "Python 3",
      "name": "python3"
    },
    "language_info": {
      "codemirror_mode": {
        "name": "ipython",
        "version": 3
      },
      "file_extension": ".py",
      "mimetype": "text/x-python",
      "name": "python",
      "nbconvert_exporter": "python",
      "pygments_lexer": "ipython3",
      "version": "3.11.6"
    }
  },
  "nbformat": 4,
  "nbformat_minor": 0
}
